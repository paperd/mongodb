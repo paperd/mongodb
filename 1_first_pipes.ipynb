{
 "cells": [
  {
   "cell_type": "code",
   "execution_count": null,
   "metadata": {},
   "outputs": [],
   "source": [
    "!pip install pymongo"
   ]
  },
  {
   "cell_type": "code",
   "execution_count": null,
   "metadata": {},
   "outputs": [],
   "source": [
    "from pymongo import MongoClient"
   ]
  },
  {
   "cell_type": "code",
   "execution_count": null,
   "metadata": {},
   "outputs": [],
   "source": [
    "# optimize a framework to perform real-time analytics for dashboards and reports\n",
    "\n",
    "br = '\\n'\n",
    "client = MongoClient('localhost', port=27017)\n",
    "db = client.test\n",
    "cars = db.cars"
   ]
  },
  {
   "cell_type": "code",
   "execution_count": null,
   "metadata": {},
   "outputs": [],
   "source": [
    "# results from each stage of pipeline passed onto next stage\n",
    "# $match and $sort should be 1st in pipeline since they use indexes!\n",
    "# $match should probably be first because drastically reduces search!\n",
    "\n",
    "pipe = cars.aggregate(\n",
    "    [{'$match':{'Cylinders':4}},\n",
    "     {'$sort': {'Car': 1}},\n",
    "     {'$project': {'Car': 1, 'Cylinders':1,\n",
    "                   'Origin':1, 'MPG':1}},\n",
    "     {'$limit':3}\n",
    "     ]\n",
    "    )\n",
    "\n",
    "[(row['_id'], row['Car'], row['Cylinders'],\n",
    "  row['Origin']) for row in pipe]"
   ]
  },
  {
   "cell_type": "code",
   "execution_count": null,
   "metadata": {},
   "outputs": [],
   "source": [
    "# looks similar to a regular query, but optimized!\n",
    "# same result, but projecting through elimination\n",
    "\n",
    "pipe = cars.aggregate(\n",
    "    [{'$match':{'Cylinders':4}},\n",
    "     {'$sort': {'Car': 1}},\n",
    "     {'$project': {'Acceleration': 0, 'Displacement':0,\n",
    "                   'HP':0, 'Model':0, 'Weight':0}},\n",
    "     {'$limit':3}\n",
    "     ]\n",
    "    )\n",
    "\n",
    "[(row['_id'], row['Car'], row['Cylinders'],\n",
    "  row['Origin']) for row in pipe]"
   ]
  },
  {
   "cell_type": "code",
   "execution_count": null,
   "metadata": {},
   "outputs": [],
   "source": [
    "# why is this output different from the last two pipes?\n",
    "\n",
    "pipe = cars.aggregate(\n",
    "    [{'$match':{'Cylinders':4}},\n",
    "     {'$sort': {'Car': -1}},\n",
    "     {'$project': {'Car': 1, 'Cylinders':1,\n",
    "                   'Origin':1, 'MPG':1}},\n",
    "     {'$limit':3}\n",
    "     ]\n",
    "    )\n",
    "\n",
    "[(row['_id'], row['Car'], row['Cylinders'],\n",
    "  row['Origin']) for row in pipe]"
   ]
  },
  {
   "cell_type": "code",
   "execution_count": null,
   "metadata": {},
   "outputs": [],
   "source": [
    "# use the '$or' operator\n",
    "# also use the '$out' operator\n",
    "# sort by '_id'\n",
    "\n",
    "pipe = cars.aggregate(\n",
    "    [{'$match':{'$or': [{'Cylinders':5.0},\n",
    "                        {'Cylinders':3.0}]}},\n",
    "     {'$sort': {'_id':1}},\n",
    "     {'$project':{'Car':1, 'Cylinders':1, 'Origin':1}},\n",
    "     {'$out':'cyl_odd'}\n",
    "     ]\n",
    "    )"
   ]
  },
  {
   "cell_type": "code",
   "execution_count": null,
   "metadata": {},
   "outputs": [],
   "source": [
    "# since we created 'cyl_odd' with '$out', we can query it!\n",
    "# also, check your DB via command line and you will see it created!\n",
    "\n",
    "q = db.cyl_odd.find()\n",
    "\n",
    "[(row['_id'], row['Car'], row['Cylinders'],\n",
    "  row['Origin']) for row in q]"
   ]
  },
  {
   "cell_type": "code",
   "execution_count": null,
   "metadata": {},
   "outputs": [],
   "source": [
    "# can also push pipe results into a variable for later use\n",
    "# in this case, we save the full dictionary results\n",
    "\n",
    "pipe = cars.aggregate(\n",
    "    [{'$match':{'Cylinders':6}},\n",
    "     {'$sort': {'_id': 1}},\n",
    "     {'$project': {'Car': 1, 'Cylinders':1,\n",
    "                   'Origin':1, 'MPG':1}},\n",
    "     {'$limit':10}\n",
    "     ]\n",
    "    )\n",
    "\n",
    "data_dict = [row for row in pipe]"
   ]
  },
  {
   "cell_type": "code",
   "execution_count": null,
   "metadata": {},
   "outputs": [],
   "source": [
    "# display first element from 'data_dict'\n",
    "\n",
    "print (data_dict[0])\n",
    "print (type(data_dict[0]))"
   ]
  },
  {
   "cell_type": "code",
   "execution_count": null,
   "metadata": {},
   "outputs": [],
   "source": [
    "# in this case, we save a slice from each document\n",
    "# must rerun pipe because the cursor is not persistent!\n",
    "\n",
    "pipe = cars.aggregate(\n",
    "    [{'$match':{'Cylinders':6}},\n",
    "     {'$sort': {'_id': 1}},\n",
    "     {'$project': {'Car': 1, 'Cylinders':1,\n",
    "                   'Origin':1, 'MPG':1}},\n",
    "     {'$limit':10}\n",
    "     ]\n",
    "    )\n",
    "\n",
    "data_slice = [(row['_id'], row['Car'], row['Cylinders'],\n",
    "               row['Origin']) for row in pipe]"
   ]
  },
  {
   "cell_type": "code",
   "execution_count": null,
   "metadata": {},
   "outputs": [],
   "source": [
    "# display first element from 'data_slice'\n",
    "\n",
    "print (data_slice[0])\n",
    "print (type(data_slice[0]))"
   ]
  },
  {
   "cell_type": "code",
   "execution_count": null,
   "metadata": {},
   "outputs": [],
   "source": [
    "# display data represented as dictionary elements\n",
    "\n",
    "for i, row in enumerate(data_dict):\n",
    "    print (i, row)"
   ]
  },
  {
   "cell_type": "code",
   "execution_count": null,
   "metadata": {},
   "outputs": [],
   "source": [
    "# display data as slices\n",
    "\n",
    "for i, row in enumerate(data_slice):\n",
    "    print (i, row)"
   ]
  },
  {
   "cell_type": "code",
   "execution_count": null,
   "metadata": {},
   "outputs": [],
   "source": [
    "# anatomy of a slice result\n",
    "\n",
    "length = len(data_slice)\n",
    "\n",
    "for i, row in enumerate(data_slice):\n",
    "    print (i, row[0], row[1], row[2], row[3])\n",
    "    if i == length - 1:\n",
    "        print ()\n",
    "        print ('slice datatype:', type(row))"
   ]
  }
 ],
 "metadata": {
  "kernelspec": {
   "display_name": "Python 3",
   "language": "python",
   "name": "python3"
  },
  "language_info": {
   "codemirror_mode": {
    "name": "ipython",
    "version": 3
   },
   "file_extension": ".py",
   "mimetype": "text/x-python",
   "name": "python",
   "nbconvert_exporter": "python",
   "pygments_lexer": "ipython3",
   "version": "3.7.3"
  }
 },
 "nbformat": 4,
 "nbformat_minor": 2
}
