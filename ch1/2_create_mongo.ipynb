{
 "cells": [
  {
   "cell_type": "markdown",
   "metadata": {},
   "source": [
    "# Module 2 - Create your first MongoDB database (30 minutes)\n",
    "\n",
    "* Please feel free to ask questions at any time!"
   ]
  },
  {
   "cell_type": "markdown",
   "metadata": {},
   "source": [
    "# Set up the PyMongo environment"
   ]
  },
  {
   "cell_type": "code",
   "execution_count": null,
   "metadata": {},
   "outputs": [],
   "source": [
    "# pymongo library is not installed by default \n",
    "\n",
    "!pip install pymongo"
   ]
  },
  {
   "cell_type": "markdown",
   "metadata": {},
   "source": [
    "* The 'pymongo' library contains what we need to enable Python to shake hands with MongoDB"
   ]
  },
  {
   "cell_type": "code",
   "execution_count": null,
   "metadata": {},
   "outputs": [],
   "source": [
    "# get appropriate Python libraries\n",
    "\n",
    "from pymongo import MongoClient  # module we need from the 'pymongo' library\n",
    "import pandas as pd"
   ]
  },
  {
   "cell_type": "markdown",
   "metadata": {},
   "source": [
    "* It's more efficient to **only** load the modules you need from a library intead of importing the entire library!\n",
    "* We need several modules from 'pandas' so we load the entire library!"
   ]
  },
  {
   "cell_type": "markdown",
   "metadata": {},
   "source": [
    "# Get CSV data into Pandas"
   ]
  },
  {
   "cell_type": "code",
   "execution_count": null,
   "metadata": {},
   "outputs": [],
   "source": [
    "# make sure that the CSV file is available!\n",
    "\n",
    "f = 'data/cars.csv'\n",
    "df = pd.read_csv(f)"
   ]
  },
  {
   "cell_type": "code",
   "execution_count": null,
   "metadata": {},
   "outputs": [],
   "source": [
    "# verify that data is read properly into a Pandas DataFrame\n",
    "\n",
    "n = 3\n",
    "df.head()"
   ]
  },
  {
   "cell_type": "markdown",
   "metadata": {},
   "source": [
    "# Convert DataFrame to list of dictionary elements"
   ]
  },
  {
   "cell_type": "code",
   "execution_count": null,
   "metadata": {},
   "outputs": [],
   "source": [
    "# create a list of dictionary elements for MongoDB consumption\n",
    "\n",
    "data = df.to_dict('records')"
   ]
  },
  {
   "cell_type": "markdown",
   "metadata": {},
   "source": [
    "* We convert the DataFrame into a list of dictionary elements because it is easy to load data into MongoDB this way. Actually, converting data into a list of dictionary elements is a great way to work with data because not only does it work well with MongoDB, it also works well with JSON and Python."
   ]
  },
  {
   "cell_type": "markdown",
   "metadata": {},
   "source": [
    "# Explore the dictionary elements"
   ]
  },
  {
   "cell_type": "code",
   "execution_count": null,
   "metadata": {},
   "outputs": [],
   "source": [
    "# each element in 'data' is a dictionary\n",
    "\n",
    "# let's explore the first dictionary\n",
    "\n",
    "type(data[0])  # verify the datatype (index starts at 0)"
   ]
  },
  {
   "cell_type": "markdown",
   "metadata": {},
   "source": [
    "* Lists (arrays) and any other mechanism in Python that holds multiple data elements always starts at index of 0."
   ]
  },
  {
   "cell_type": "code",
   "execution_count": null,
   "metadata": {},
   "outputs": [],
   "source": [
    "# get the keys\n",
    "\n",
    "data[0].keys()"
   ]
  },
  {
   "cell_type": "code",
   "execution_count": null,
   "metadata": {},
   "outputs": [],
   "source": [
    "# get the values\n",
    "\n",
    "data[0].values()"
   ]
  },
  {
   "cell_type": "code",
   "execution_count": null,
   "metadata": {},
   "outputs": [],
   "source": [
    "# get the contents of the first dictionary from the list\n",
    "\n",
    "data[0]"
   ]
  },
  {
   "cell_type": "code",
   "execution_count": null,
   "metadata": {},
   "outputs": [],
   "source": [
    "# get MPG from the first dictionary\n",
    "\n",
    "data[0]['MPG']"
   ]
  },
  {
   "cell_type": "markdown",
   "metadata": {},
   "source": [
    "* We access dictionary values based on their respective keys."
   ]
  },
  {
   "cell_type": "code",
   "execution_count": null,
   "metadata": {},
   "outputs": [],
   "source": [
    "# kind of a pain, but here is how we can get values of our choice\n",
    "\n",
    "ls = ['Car', 'MPG', 'Origin']\n",
    "for key in ls:\n",
    "    print (data[0].get(key))\n",
    "\n",
    "# for the programmers in the class, we can use list comprehension\n",
    "\n",
    "ls = ['Car', 'MPG', 'Origin']\n",
    "\n",
    "[data[0].get(key) for key in ls]"
   ]
  },
  {
   "cell_type": "markdown",
   "metadata": {},
   "source": [
    "# Connect to MongoDB"
   ]
  },
  {
   "cell_type": "code",
   "execution_count": null,
   "metadata": {},
   "outputs": [],
   "source": [
    "# Connect to MongoDB on your local machine\n",
    "\n",
    "client = MongoClient('localhost', port=27017)"
   ]
  },
  {
   "cell_type": "markdown",
   "metadata": {},
   "source": [
    "# Connect to a MongoDB instance"
   ]
  },
  {
   "cell_type": "code",
   "execution_count": null,
   "metadata": {},
   "outputs": [],
   "source": [
    "# connect to database instance 'test' (default)\n",
    "\n",
    "db = client.test  # in this case, the db instance is 'test'"
   ]
  },
  {
   "cell_type": "markdown",
   "metadata": {},
   "source": [
    "* If instance doesn't exist, MongoDB creates one automatically!\n",
    "* 'test' is the default instance\n",
    "* You can put any name as the database instance (e.g., db = client.puppy)"
   ]
  },
  {
   "cell_type": "markdown",
   "metadata": {},
   "source": [
    "# Connect to a MongoDB collection"
   ]
  },
  {
   "cell_type": "code",
   "execution_count": null,
   "metadata": {},
   "outputs": [],
   "source": [
    "# connect to collection 'cars' (collections hold MongoDB data)\n",
    "\n",
    "cars = db.cars"
   ]
  },
  {
   "cell_type": "markdown",
   "metadata": {},
   "source": [
    "* If collection doesn't exist, MongoDB creates one automatically!"
   ]
  },
  {
   "cell_type": "markdown",
   "metadata": {},
   "source": [
    "# Drop previous instance of collection"
   ]
  },
  {
   "cell_type": "code",
   "execution_count": null,
   "metadata": {},
   "outputs": [],
   "source": [
    "# drop previous instance of 'cars' (optional, but a good idea when learning)\n",
    "\n",
    "cars.drop()"
   ]
  },
  {
   "cell_type": "markdown",
   "metadata": {},
   "source": [
    "* If you don't drop the existing instance and try to add data with an existing '_id', you will get an error because each '_id' must be unique."
   ]
  },
  {
   "cell_type": "markdown",
   "metadata": {},
   "source": [
    "# Add data to the collection"
   ]
  },
  {
   "cell_type": "code",
   "execution_count": null,
   "metadata": {},
   "outputs": [],
   "source": [
    "# add 'cars' data to 'cars' collection\n",
    "\n",
    "for i, row in enumerate(data):\n",
    "    row['_id'] = i\n",
    "    cars.insert_one(row)  # create a new document for every record"
   ]
  },
  {
   "cell_type": "markdown",
   "metadata": {},
   "source": [
    "In MongoDB, the **_id** key is the unique idenfier for each document. We like\n",
    "to explicitly identify each *_id* key for easier processing. If you don't do\n",
    "this, MongoDB will automatically assign each document a nasty looking idenfier."
   ]
  },
  {
   "cell_type": "markdown",
   "metadata": {},
   "source": [
    "Also, a collection of data is called a **collection** and each item is called a **document**."
   ]
  },
  {
   "cell_type": "markdown",
   "metadata": {},
   "source": [
    "# Verify all is well by querying the newly created collection"
   ]
  },
  {
   "cell_type": "code",
   "execution_count": null,
   "metadata": {},
   "outputs": [],
   "source": [
    "# create a simple query to verify that data was added\n",
    "\n",
    "n = 1  # number of records to query\n",
    "q = cars.find({}, {'_id':0, 'Displacement':0}).limit(n)\n",
    "\n",
    "# use list comprehension to display cursor!\n",
    "\n",
    "[row for row in q]"
   ]
  },
  {
   "cell_type": "markdown",
   "metadata": {},
   "source": [
    "# Create a collection directly from Python\n",
    "\n",
    "The easiset way to add your own data to MongoDB is to create a list of dictionary elements and add the list to the database. "
   ]
  },
  {
   "cell_type": "code",
   "execution_count": null,
   "metadata": {},
   "outputs": [],
   "source": [
    "# create a simple set of documents\n",
    "\n",
    "ls = [\n",
    "    {'_id':0, 'name': 'Lilly Pond', 'city':'NYC', 'state':'NY', 'cum_order_amt':1000},\n",
    "    {'_id':1, 'name': 'Honey Bee', 'city':'Atlanta', 'state':'GA', 'cum_order_amt':2000},\n",
    "    {'_id':2, 'name': 'Dee Liver', 'city':'Miami', 'state':'FL', 'cum_order_amt':1500},\n",
    "    {'_id':3, 'name': 'Jack Pott', 'city':'Chicago', 'state':'IL', 'cum_order_amt':12000},\n",
    "    {'_id':4, 'name': 'Candy Apple', 'city':'Boston', 'state':'MA', 'cum_order_amt':8000}\n",
    "    ]"
   ]
  },
  {
   "cell_type": "markdown",
   "metadata": {},
   "source": [
    "* Notice that we explicitly number the '_id' field. If you don't do this, MongoDB will automatically assign a systems identifier that is kind of hard to work with."
   ]
  },
  {
   "cell_type": "code",
   "execution_count": null,
   "metadata": {},
   "outputs": [],
   "source": [
    "# add the data to a collection\n",
    "\n",
    "customers = db.customers\n",
    "customers.drop()  # while we are learning ...\n",
    "db.customers.insert_many(ls)"
   ]
  },
  {
   "cell_type": "code",
   "execution_count": null,
   "metadata": {},
   "outputs": [],
   "source": [
    "# verify results\n",
    "\n",
    "[row for i, row in enumerate(customers.find()) if i < 1]  # just display one document"
   ]
  },
  {
   "cell_type": "code",
   "execution_count": null,
   "metadata": {},
   "outputs": [],
   "source": [
    "# Create a simple query\n",
    "\n",
    "q = customers.find()\n",
    "\n",
    "# use list comprehension to display cursor!\n",
    "\n",
    "[row for i, row in enumerate(q) if i < 1]"
   ]
  },
  {
   "cell_type": "markdown",
   "metadata": {},
   "source": [
    "The 'enumerate' method adds a counter to the looping mechanism. So, counter 'i' is automatically created. This is a nice feature because it saves us creating a counter, initializing it, and incrementing it in the loop. Python is all about code efficiency! "
   ]
  },
  {
   "cell_type": "markdown",
   "metadata": {},
   "source": [
    "# Module 2 Exercise\n",
    "\n",
    "* Create a MongoDB collection\n",
    "* Explicitly identify each '_id' for easier processing\n",
    "* Collection should contain at least 3 elements with 4 features \n",
    "* Create a query to verify results"
   ]
  },
  {
   "cell_type": "markdown",
   "metadata": {},
   "source": [
    "# Our Solution\n",
    "\n",
    "This one is pretty easy.\n",
    "\n",
    "1. Create your own list of at least 3 dictionary elements.\n",
    "2. Each dictionary element should have at least 4 features\n",
    "3. Add the data to a MongoDB collection\n",
    "4. Verify that your data was created correctly\n",
    "\n",
    "So, go ahead and take a few minutes and ask questions if you have trouble.\n",
    "\n",
    "<strong><font color=blue>Hint:</font></strong> Just look at what we just did in the previous section."
   ]
  },
  {
   "cell_type": "markdown",
   "metadata": {},
   "source": [
    "# What did we learn?\n",
    "\n",
    "1. we read a CSV file into a Pandas DataFrame\n",
    "2. we converted the DataFrame into dictionary elements\n",
    "3. we connected to MongoDB\n",
    "4. we create a new collection and populated it with cars data\n",
    "5. we queried the new collection cars to verify that all worked as planned\n",
    "6. we worked through an exercise to sharpen our skills\n",
    "\n",
    "## Questions?"
   ]
  },
  {
   "cell_type": "markdown",
   "metadata": {},
   "source": [
    "# <font color=red>5 minute break</font>"
   ]
  }
 ],
 "metadata": {
  "kernelspec": {
   "display_name": "Python 3",
   "language": "python",
   "name": "python3"
  },
  "language_info": {
   "codemirror_mode": {
    "name": "ipython",
    "version": 3
   },
   "file_extension": ".py",
   "mimetype": "text/x-python",
   "name": "python",
   "nbconvert_exporter": "python",
   "pygments_lexer": "ipython3",
   "version": "3.7.3"
  }
 },
 "nbformat": 4,
 "nbformat_minor": 2
}
