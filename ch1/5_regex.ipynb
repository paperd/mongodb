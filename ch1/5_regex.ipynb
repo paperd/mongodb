{
 "cells": [
  {
   "cell_type": "markdown",
   "metadata": {},
   "source": [
    "# Module 5 - Simple Regular Expressions (regex) (35 minutes)\n",
    "\n",
    "A regular expression (regex) is a sequence of characters that define a search pattern. In practice, **regex** is used to search for strings in data. This practice is called pattern matching (or string matching). Leveraging regex is a vast topic, but we only cover the very basics in this module. The best way to learn regex is to practice. So, let's get to it!\n",
    "\n",
    "Here are a couple of good references:\n",
    "\n",
    "https://www.w3schools.com/python/python_regex.asp\n",
    "\n",
    "https://www.computerhope.com/unix/regex-quickref.htm\n",
    "\n",
    "* Please feel free to ask questions at any time!"
   ]
  },
  {
   "cell_type": "code",
   "execution_count": null,
   "metadata": {},
   "outputs": [],
   "source": [
    "!pip install pymongo"
   ]
  },
  {
   "cell_type": "code",
   "execution_count": null,
   "metadata": {},
   "outputs": [],
   "source": [
    "from pymongo import MongoClient\n",
    "\n",
    "client = MongoClient('localhost', port=27017)\n",
    "db = client.test"
   ]
  },
  {
   "cell_type": "markdown",
   "metadata": {},
   "source": [
    "# Create a regex\n",
    "\n",
    "1. Identify the pattern you wish to match\n",
    "2. Write a regex to accomodate the pattern\n",
    "3. Use the **'\\\\$regex'** operator to define the pattern"
   ]
  },
  {
   "cell_type": "markdown",
   "metadata": {},
   "source": [
    "# Let's explore the 'movies' collection\n",
    "\n",
    "* The 'movies' collection contains 3,883 movie titles\n",
    "* It is available as a JSON file\n",
    "* So, let's load it and create the 'movies' collection"
   ]
  },
  {
   "cell_type": "code",
   "execution_count": null,
   "metadata": {},
   "outputs": [],
   "source": [
    "# read JSON into memory\n",
    "\n",
    "import json\n",
    "\n",
    "def read_json(f):\n",
    "    with open(f) as f:\n",
    "        return json.load(f)\n",
    "\n",
    "json_file = 'data/movies.json'  # path to the JSON file    \n",
    "movies_data_from_json = read_json(json_file)"
   ]
  },
  {
   "cell_type": "code",
   "execution_count": null,
   "metadata": {},
   "outputs": [],
   "source": [
    "# establish the DB instance\n",
    "\n",
    "movies = db.movies\n",
    "movies.drop()  # good idea when learning ..."
   ]
  },
  {
   "cell_type": "code",
   "execution_count": null,
   "metadata": {},
   "outputs": [],
   "source": [
    "# create MongoDB collection\n",
    "\n",
    "for i, row in enumerate(movies_data_from_json):\n",
    "    row['_id'] = i\n",
    "    movies.insert_one(row)  # create a new document for every record"
   ]
  },
  {
   "cell_type": "code",
   "execution_count": null,
   "metadata": {},
   "outputs": [],
   "source": [
    "# find number of documents\n",
    "\n",
    "len(list(movies.find()))"
   ]
  },
  {
   "cell_type": "code",
   "execution_count": null,
   "metadata": {},
   "outputs": [],
   "source": [
    "# find features\n",
    "\n",
    "dict = list(movies.find())\n",
    "dict[0].keys()"
   ]
  },
  {
   "cell_type": "markdown",
   "metadata": {},
   "source": [
    "* Why do we have to use index '0' with 'dict'?"
   ]
  },
  {
   "cell_type": "markdown",
   "metadata": {},
   "source": [
    "## Query all 'Comedy' movies"
   ]
  },
  {
   "cell_type": "code",
   "execution_count": null,
   "metadata": {},
   "outputs": [],
   "source": [
    "# query all 'comedy' movies\n",
    "\n",
    "q_regex = movies.find({'genres': {'$regex': 'Comedy'}})\n",
    "\n",
    "# get the number of documents returned\n",
    "\n",
    "len(list(q_regex))  # convert the query to a list and then find its length!"
   ]
  },
  {
   "cell_type": "markdown",
   "metadata": {},
   "source": [
    "So, our query returned 1163 documents containing the string 'Comedy'. But, a query is <strong><font color=red>not</font></strong> a collection, so we had to use a different method to count the number of documents returned. However, the method we used for counting documents **consumes** the cursor, which means that it empties it. So, we must rerun the query."
   ]
  },
  {
   "cell_type": "code",
   "execution_count": null,
   "metadata": {},
   "outputs": [],
   "source": [
    "# rerun the query that returns all 'comedy' movies\n",
    "\n",
    "q_regex = movies.find({'genres': {'$regex': 'Comedy'}})\n",
    "\n",
    "[(row['title'], row['genres'])  for i, row in enumerate(q_regex) if i < 5]"
   ]
  },
  {
   "cell_type": "markdown",
   "metadata": {},
   "source": [
    "Although we returned 'Comedy' movies, we didn't return purely comedy ones!"
   ]
  },
  {
   "cell_type": "markdown",
   "metadata": {},
   "source": [
    "## Query only 'Comedy' movies released in 2000"
   ]
  },
  {
   "cell_type": "code",
   "execution_count": null,
   "metadata": {},
   "outputs": [],
   "source": [
    "q_regex = movies.find({\n",
    "    'title': {'$regex':'2000'},\n",
    "    'genres': {'$regex': '^Comedy$'}},\n",
    "{'_id':0, 'title':1, 'genres':1})  # explicitly project 'title' and 'genres'\n",
    "\n",
    "[(row['title'], row['genres']) for i, row in enumerate(q_regex) if i < 5]"
   ]
  },
  {
   "cell_type": "markdown",
   "metadata": {},
   "source": [
    "The **first** condition matches all movie titles released in the year 2000. The **second** condition matches genres that begin and end with the string 'Comedy'.\n",
    "\n",
    "For the second condition, the **'^'** matches the first character of a string. So, the first character of the string must be an uppercase 'C'. The **'\\\\$'** matches the last character of a string. So, the last character must be a lowercase 'y'. You can also project the fields you want to view at the end of the query!\n",
    "\n",
    "Also, notice that each condition is <strong><font color=blue>automatically</font></strong> an 'AND'. So, each condition we add must be met!"
   ]
  },
  {
   "cell_type": "markdown",
   "metadata": {},
   "source": [
    "## Query movies for children released in 2000"
   ]
  },
  {
   "cell_type": "code",
   "execution_count": null,
   "metadata": {},
   "outputs": [],
   "source": [
    "q_regex = movies.find({\n",
    "    'title': {'$regex':'2000'},\n",
    "    'genres': {'$regex':'Children'}\n",
    "    })\n",
    "\n",
    "[(row['title'], row['genres']) for i, row in enumerate(q_regex) if i < 5]"
   ]
  },
  {
   "cell_type": "markdown",
   "metadata": {},
   "source": [
    "Notice that we only include the word 'Children' in the regular expression for 'genres'."
   ]
  },
  {
   "cell_type": "markdown",
   "metadata": {},
   "source": [
    "## Query 'Drama' movies released in 1998 with 'Angel' in the title "
   ]
  },
  {
   "cell_type": "code",
   "execution_count": null,
   "metadata": {},
   "outputs": [],
   "source": [
    "q_regex = movies.find({\n",
    "    '$and':[\n",
    "        {'title': {'$regex':'Angel'}},\n",
    "        {'title': {'$regex':'1998'}}],\n",
    "    'genres': {'$regex': '^Drama$'}\n",
    "    })\n",
    "\n",
    "[(row['title'], row['genres']) for i, row in enumerate(q_regex)]"
   ]
  },
  {
   "cell_type": "markdown",
   "metadata": {},
   "source": [
    "* We had to use two 'title' expressions to get what we want! Notice that we had to use the '\\\\$and' operator to make the query work as desired."
   ]
  },
  {
   "cell_type": "markdown",
   "metadata": {},
   "source": [
    "## Query 'Comedy' movies with number titles released in the 1990s "
   ]
  },
  {
   "cell_type": "code",
   "execution_count": null,
   "metadata": {},
   "outputs": [],
   "source": [
    "q_regex = movies.find({\n",
    "    '$and':[\n",
    "        {'title': {'$regex':'^[0-9]'}},\n",
    "        {'title': {'$regex':'19*'}}],\n",
    "    'genres': {'$regex': '^Comedy$'}\n",
    "    })\n",
    "\n",
    "[(row['title'], row['genres']) for i, row in enumerate(q_regex)]"
   ]
  },
  {
   "cell_type": "markdown",
   "metadata": {},
   "source": [
    "We can get any digit with **'\\[0-9\\]'**. Notice how we use the wildcard symbol **'*'** to get movies in the 1990s."
   ]
  },
  {
   "cell_type": "markdown",
   "metadata": {},
   "source": [
    "# Let's explore the 'sales' collection\n",
    "\n",
    "* The 'sales' collection contains 100 documents\n",
    "* It is available as a CSV file\n",
    "* So, let's load it and create the 'sales' collection"
   ]
  },
  {
   "cell_type": "code",
   "execution_count": null,
   "metadata": {},
   "outputs": [],
   "source": [
    "import pandas as pd\n",
    "\n",
    "f = 'data/sales.csv'\n",
    "df = pd.read_csv(f)\n",
    "df[['Country', 'Item Type']].head(3)"
   ]
  },
  {
   "cell_type": "code",
   "execution_count": null,
   "metadata": {},
   "outputs": [],
   "source": [
    "# establish the DB instance\n",
    "\n",
    "sales = db.sales\n",
    "sales.drop()  # good idea when learning ..."
   ]
  },
  {
   "cell_type": "code",
   "execution_count": null,
   "metadata": {},
   "outputs": [],
   "source": [
    "# create a list of dictionary elements for MongoDB consumption\n",
    "\n",
    "data = df.to_dict('records')"
   ]
  },
  {
   "cell_type": "code",
   "execution_count": null,
   "metadata": {},
   "outputs": [],
   "source": [
    "# create MongoDB collection\n",
    "\n",
    "for i, row in enumerate(data):\n",
    "    row['_id'] = i\n",
    "    sales.insert_one(row)  # create a new document for every record"
   ]
  },
  {
   "cell_type": "code",
   "execution_count": null,
   "metadata": {},
   "outputs": [],
   "source": [
    "# find number of documents\n",
    "\n",
    "len(list(sales.find()))"
   ]
  },
  {
   "cell_type": "code",
   "execution_count": null,
   "metadata": {},
   "outputs": [],
   "source": [
    "# find features\n",
    "\n",
    "dict = list(sales.find())\n",
    "dict[0].keys()"
   ]
  },
  {
   "cell_type": "markdown",
   "metadata": {},
   "source": [
    "## Query countries starting with 'A' with ship dates in the 2000s"
   ]
  },
  {
   "cell_type": "code",
   "execution_count": null,
   "metadata": {},
   "outputs": [],
   "source": [
    "q_regex = sales.find({\n",
    "    'Country': {'$regex':'^A'},\n",
    "    'Ship Date': {'$regex':'20*'}},\n",
    "{'_id':0, 'Country':1, 'Ship Date':1, 'Region':1})  # explicitly project some features\n",
    "\n",
    "[(row['Country'], row['Ship Date'], row['Region'])\n",
    " for i, row in enumerate(q_regex) if i < 5]"
   ]
  },
  {
   "cell_type": "markdown",
   "metadata": {},
   "source": [
    "## Query order dates in February of 2015"
   ]
  },
  {
   "cell_type": "code",
   "execution_count": null,
   "metadata": {},
   "outputs": [],
   "source": [
    "# return all comedy movies released in '1996'\n",
    "\n",
    "q_regex = sales.find({\n",
    "    '$and':[\n",
    "        {'Order Date': {'$regex':'^2/'}},  # February is month '2'\n",
    "        {'Order Date': {'$regex':'2015'}},\n",
    "    ]\n",
    "})\n",
    "\n",
    "[(row['Country'], row['Order Date']) for i, row in enumerate(q_regex)]"
   ]
  },
  {
   "cell_type": "markdown",
   "metadata": {},
   "source": [
    "# Finally, let's explore the familiar 'cars' collection\n",
    "\n",
    "* The 'cars' collection contains 406 documents "
   ]
  },
  {
   "cell_type": "code",
   "execution_count": null,
   "metadata": {},
   "outputs": [],
   "source": [
    "# establish the DB instance\n",
    "\n",
    "cars = db.cars"
   ]
  },
  {
   "cell_type": "markdown",
   "metadata": {},
   "source": [
    "* No need to drop the collection because we are not creating it from scratch!"
   ]
  },
  {
   "cell_type": "code",
   "execution_count": null,
   "metadata": {},
   "outputs": [],
   "source": [
    "# find number of documents\n",
    "\n",
    "len(list(cars.find()))"
   ]
  },
  {
   "cell_type": "code",
   "execution_count": null,
   "metadata": {},
   "outputs": [],
   "source": [
    "# find features\n",
    "\n",
    "dict = list(cars.find())\n",
    "dict[0].keys()"
   ]
  },
  {
   "cell_type": "markdown",
   "metadata": {},
   "source": [
    "## Let's perform a really complex one!"
   ]
  },
  {
   "cell_type": "code",
   "execution_count": null,
   "metadata": {},
   "outputs": [],
   "source": [
    "q = cars.find({\n",
    "    'HP': {'$gt':113},\n",
    "    'Weight': {'$gt':2000},\n",
    "    'Cylinders':{'$in':[4, 6]},\n",
    "    'Origin':{'$in':['Europe', 'Japan']},\n",
    "    'Car':{'$regex':'^s', '$options':'i'}\n",
    "    },\n",
    "{'_id':0, 'Car':1, 'Origin':1, 'MPG':1})\n",
    "\n",
    "[(row['Car'], row['Origin'], row['MPG']) for row in q]"
   ]
  },
  {
   "cell_type": "markdown",
   "metadata": {},
   "source": [
    "We logically 'AND' 5 conditions, namely, 'HP' greater than 113, 'Weight' greater than 2000, 'Cylinders' of either 4 or 6, 'Origin' either Europe or Japan, and 'Car' starting with the letter 's'. The '\\$options' with **'i'** includes either uppercase or lowercase strings. Whew!"
   ]
  },
  {
   "cell_type": "markdown",
   "metadata": {},
   "source": [
    "## Query cars with 'fury' in the name not from Japan"
   ]
  },
  {
   "cell_type": "code",
   "execution_count": null,
   "metadata": {},
   "outputs": [],
   "source": [
    "q = cars.find({\n",
    "    'Car': {'$regex': 'fury', '$options':'i'},\n",
    "    'Origin': {'$nin':['Japan']}},\n",
    "    {'_id':1, 'Car':1, 'Origin':1}\n",
    "    )\n",
    "\n",
    "[(row['_id'], row['Car'], row['Origin']) for row in q]"
   ]
  },
  {
   "cell_type": "markdown",
   "metadata": {},
   "source": [
    "The '\\\\$nin' can be a very useful and efficient operator."
   ]
  },
  {
   "cell_type": "markdown",
   "metadata": {},
   "source": [
    "## Query US cars with name ending as 'duster'"
   ]
  },
  {
   "cell_type": "code",
   "execution_count": null,
   "metadata": {},
   "outputs": [],
   "source": [
    "q = cars.find({\n",
    "    'Car': {'$regex': 'duster$', '$options':'i'},\n",
    "    'Origin': {'$in':['US']}},\n",
    "    {'_id':0, 'Car':1, 'Origin':1})\n",
    "\n",
    "[(row['Car'], row['Origin']) for row in q]"
   ]
  },
  {
   "cell_type": "markdown",
   "metadata": {},
   "source": [
    "## Finally, return Japanese cars with name starting with 'm' and containing 'rx', and sort asc"
   ]
  },
  {
   "cell_type": "code",
   "execution_count": null,
   "metadata": {},
   "outputs": [],
   "source": [
    "# return Japanese cars starting with 'm' and sort by 'Car' ascending\n",
    "\n",
    "q = cars.find({\n",
    "    'Car': {'$regex': '^m', '$options':'i'},\n",
    "    'Car': {'$regex': 'rx', '$options':'i'},\n",
    "    'Origin': {'$in':['Japan']}},\n",
    "    {'_id':0, 'Car':1, 'Origin':1, 'HP':1}).sort('HP', 1)\n",
    "\n",
    "[row for row in q]"
   ]
  },
  {
   "cell_type": "markdown",
   "metadata": {},
   "source": [
    "# Module 5 Exercise\n",
    "\n",
    "Create a regex query with the following specifications:\n",
    "\n",
    "* Work with the **'sales'** collection\n",
    "* Return only 'African' sales documents\n",
    "* Return only countries starting with 'r'\n",
    "* Project only country, total profit, and item type\n",
    "* Include the '_id' key"
   ]
  },
  {
   "cell_type": "markdown",
   "metadata": {},
   "source": [
    "# Our solution\n",
    "\n",
    "* Begin with a plan. Create one query condition at a time and test. In this case, we only have to conditions and one projection. Let's begin by limiting the query to only 'Africa':"
   ]
  },
  {
   "cell_type": "code",
   "execution_count": null,
   "metadata": {},
   "outputs": [],
   "source": [
    "q = sales.find({\n",
    "    'Region': {'$regex': 'africa', '$options':'i'}\n",
    "},\n",
    "{'Region':1})\n",
    "\n",
    "[(row['_id'], row['Region']) for i,row in enumerate(q) if i < 3]"
   ]
  },
  {
   "cell_type": "markdown",
   "metadata": {},
   "source": [
    "Let's continue with countries starting with 'r':"
   ]
  },
  {
   "cell_type": "code",
   "execution_count": null,
   "metadata": {},
   "outputs": [],
   "source": [
    "q = sales.find({\n",
    "    'Region': {'$regex': 'africa', '$options':'i'},\n",
    "    'Country': {'$regex': '^r', '$options':'i'}\n",
    "},\n",
    "{'_id':1, 'Region':1, 'Country':1})\n",
    "\n",
    "[(row['_id'], row['Country'], row['Region'])\n",
    " for i,row in enumerate(q) if i < 10]"
   ]
  },
  {
   "cell_type": "markdown",
   "metadata": {},
   "source": [
    "Now, all we have to do is project:"
   ]
  },
  {
   "cell_type": "code",
   "execution_count": null,
   "metadata": {},
   "outputs": [],
   "source": [
    "import numpy as np\n",
    "\n",
    "q = sales.find({\n",
    "    'Region': {'$regex': 'africa', '$options':'i'},\n",
    "    'Country': {'$regex': '^r', '$options':'i'}\n",
    "},\n",
    "{'_id':1, 'Country':1, 'Item Type':1, 'Total Profit':1})\n",
    "\n",
    "data = [(row['_id'], row['Country'], row['Item Type'],\n",
    "         '${:,.2f}'.format(row['Total Profit'])) for row in q]\n",
    "\n",
    "data"
   ]
  },
  {
   "cell_type": "markdown",
   "metadata": {},
   "source": [
    "We went a bit crazy and formatted total profit!"
   ]
  },
  {
   "cell_type": "markdown",
   "metadata": {},
   "source": [
    "# What did we learn?\n",
    "\n",
    "1. we retreived the number of documents in a collection\n",
    "2. we retrieved the features (keys) from a collection\n",
    "3. we created several regex queries to identify patterns from three collections\n",
    "4. we sharpened our regex querying skills with an exercise\n",
    "\n",
    "## Questions?"
   ]
  },
  {
   "cell_type": "markdown",
   "metadata": {},
   "source": [
    "# <font color=red>5 minute break</font>"
   ]
  }
 ],
 "metadata": {
  "kernelspec": {
   "display_name": "Python 3",
   "language": "python",
   "name": "python3"
  },
  "language_info": {
   "codemirror_mode": {
    "name": "ipython",
    "version": 3
   },
   "file_extension": ".py",
   "mimetype": "text/x-python",
   "name": "python",
   "nbconvert_exporter": "python",
   "pygments_lexer": "ipython3",
   "version": "3.7.3"
  }
 },
 "nbformat": 4,
 "nbformat_minor": 2
}
