{
 "cells": [
  {
   "cell_type": "markdown",
   "metadata": {},
   "source": [
    "# Module 4 - Query MongoDB (35 minutes)\n",
    "\n",
    "It may not seem as easy to query as with SQL, but once you get used to the process querying data with a NoSQL database like MongoDB is pretty straightforward and very flexible.\n",
    "\n",
    "* Please feel free to ask questions at any time!"
   ]
  },
  {
   "cell_type": "code",
   "execution_count": null,
   "metadata": {},
   "outputs": [],
   "source": [
    "!pip install pymongo"
   ]
  },
  {
   "cell_type": "code",
   "execution_count": null,
   "metadata": {},
   "outputs": [],
   "source": [
    "from pymongo import MongoClient"
   ]
  },
  {
   "cell_type": "code",
   "execution_count": null,
   "metadata": {},
   "outputs": [],
   "source": [
    "# assuming 'cars' collection exists\n",
    "\n",
    "client = MongoClient('localhost', port=27017)  # shake hands with your PC\n",
    "db = client.test  # connect to the 'test' instance\n",
    "cars = db.cars  # connect to the 'cars' collection"
   ]
  },
  {
   "cell_type": "markdown",
   "metadata": {},
   "source": [
    "A great feature (in my opinion) of MongoDB is that it automatically creates a new instance even if one doesn't exist. Also, it automatically creates a new collection even if one doesn't exist. I have never worked with a relational database that works in this manner. Actually, creating new instances in relational databases (like Oracle) is a real pain in the keester. "
   ]
  },
  {
   "cell_type": "markdown",
   "metadata": {},
   "source": [
    "# Create a NoSQL query with MongoDB"
   ]
  },
  {
   "cell_type": "code",
   "execution_count": null,
   "metadata": {},
   "outputs": [],
   "source": [
    "# create line feed variable for convenience\n",
    "\n",
    "br = '\\n'\n",
    "\n",
    "# establish number of documents to display\n",
    "\n",
    "n = 1\n",
    "\n",
    "# create query\n",
    "\n",
    "q = cars.find().limit(n)\n",
    "\n",
    "# display documents to limit of n\n",
    "\n",
    "[row for row in q]  # use list comprehension to display results of the query"
   ]
  },
  {
   "cell_type": "markdown",
   "metadata": {},
   "source": [
    "## We just created a simple NoSQL query!\n",
    "### A NoSQL query with MongoDB has a few moving parts:\n",
    "\n",
    "1. start with the collection name 'cars'\n",
    "2. use the 'find()' method to return all records from 'cars'\n",
    "3. add the 'limit()' method to limit output to 1 record\n",
    "4. finally, display the results of query 'q'"
   ]
  },
  {
   "cell_type": "markdown",
   "metadata": {},
   "source": [
    "### Notice that a NoSQL query has a pretty logical and sequential layout. It begins with the collection name followed by the 'find()' method. The 'find()' method is key because it controls what records are returned. The 'find()' method can be augmented with other submethods like 'limit()'."
   ]
  },
  {
   "cell_type": "markdown",
   "metadata": {},
   "source": [
    "# Let's create another query"
   ]
  },
  {
   "cell_type": "code",
   "execution_count": null,
   "metadata": {},
   "outputs": [],
   "source": [
    "n = 3\n",
    "\n",
    "# create query\n",
    "\n",
    "q = cars.find().limit(n)\n",
    "\n",
    "# anatomy of result set\n",
    "\n",
    "# display first document\n",
    "\n",
    "print (q[0], br)\n",
    "\n",
    "# display third document\n",
    "\n",
    "print (q[2], br)\n",
    "\n",
    "# display pieces of third document by keys\n",
    "\n",
    "print (q[2]['Car'], end = ' ')\n",
    "print ('Model ' + str(q[2]['Model']), end = ' ')\n",
    "print ('Made in the ' + '\\'' + str(q[2]['Origin']) + 'A' + '\\'')"
   ]
  },
  {
   "cell_type": "markdown",
   "metadata": {},
   "source": [
    "## We just queried all cars, but limited output to 3 records\n",
    "\n",
    "Although we return all records from the collection, We limit output to just 3 records for convenience. We can access each record individually by an index value. So, the first record is accessed by index 0, second by index 1, and third by index 2. We can also slice off pieces (fields) within each record by using their keys. So, we project 'Car', 'Model', and 'Origin' keys and piece the result with some text to make it look nicer.\n",
    "\n",
    "* We want to limit the records returned because the dataset includes hundreds of cars! "
   ]
  },
  {
   "cell_type": "markdown",
   "metadata": {},
   "source": [
    "# Let's move onto 'inclusion'\n",
    "\n",
    "We can **include** keys in our query with the key name, a ':', and a '1'. The '1' tells Python that we want to include this key."
   ]
  },
  {
   "cell_type": "code",
   "execution_count": null,
   "metadata": {},
   "outputs": [],
   "source": [
    "# inclusion\n",
    "\n",
    "n = 5\n",
    "\n",
    "print ('1st', n, 'cars:')\n",
    "\n",
    "p = {'Car':1, 'MPG':1, 'HP':1}\n",
    "\n",
    "q = cars.find({}, p).limit(n)\n",
    "[row for row in q]"
   ]
  },
  {
   "cell_type": "markdown",
   "metadata": {},
   "source": [
    "## The '{}' in the 'find()' method tells Python to return all records from the collection.\n",
    "\n",
    "We build add the fields we want in our query and assign to variable 'p'. We then include variable 'p' in the 'find()' method. Finally, we display results with list comprehension."
   ]
  },
  {
   "cell_type": "markdown",
   "metadata": {},
   "source": [
    "# Now, let's demonstrate 'exclusion'"
   ]
  },
  {
   "cell_type": "code",
   "execution_count": null,
   "metadata": {},
   "outputs": [],
   "source": [
    "# exclusion\n",
    "\n",
    "n = 5\n",
    "\n",
    "print ('1st', n, 'cars:')\n",
    "\n",
    "p = {'_id':0, 'Model':0, 'Acceleration':0, 'Weight':0,\n",
    "     'Displacement':0, 'MPG':0, 'Origin':0}\n",
    "\n",
    "q = cars.find({}, p).limit(n)\n",
    "[row for row in q]"
   ]
  },
  {
   "cell_type": "markdown",
   "metadata": {},
   "source": [
    "## Use '0' instead of '1' to exclude fields.\n",
    "\n",
    "The logic is the same as with inclusion, but we explicitly exclude the fields we don't want with '0'. So, all fields except the ones we excluded are projected in the output."
   ]
  },
  {
   "cell_type": "markdown",
   "metadata": {},
   "source": [
    "# We can easily skip documents"
   ]
  },
  {
   "cell_type": "code",
   "execution_count": null,
   "metadata": {},
   "outputs": [],
   "source": [
    "# skip documents\n",
    "\n",
    "n = 3\n",
    "hop = 200\n",
    "\n",
    "print ('Skip', hop, 'cars:')\n",
    "\n",
    "p = {'Model':0, 'Acceleration':0, 'Weight':0,\n",
    "     'Displacement':0, 'MPG':0, 'Origin':0}\n",
    "\n",
    "q = cars.find({}, p).skip(hop).limit(n)\n",
    "\n",
    "[row for row in q]"
   ]
  },
  {
   "cell_type": "markdown",
   "metadata": {},
   "source": [
    "## Use the 'skip' method to skip over any number of documents"
   ]
  },
  {
   "cell_type": "markdown",
   "metadata": {},
   "source": [
    "# Query with selector operators\n",
    "\n",
    "The '$in' operator is used to include records with matching values. So, we can query all Japanese cars with the 'q_japan' query."
   ]
  },
  {
   "cell_type": "code",
   "execution_count": null,
   "metadata": {},
   "outputs": [],
   "source": [
    "# query with selector operators\n",
    "\n",
    "n = 5\n",
    "\n",
    "# return all Japanese cars\n",
    "\n",
    "q_japan = cars.find({'Origin' :\n",
    "                     {'$in' : ['Japan']}}).limit(n)\n",
    "\n",
    "# display n documents\n",
    "\n",
    "[(row['_id'], row['Car'], row['Origin']) for row in q_japan]"
   ]
  },
  {
   "cell_type": "markdown",
   "metadata": {},
   "source": [
    "## Notice that we place our filters inside the 'find()' method to add more complexity to the query."
   ]
  },
  {
   "cell_type": "markdown",
   "metadata": {},
   "source": [
    "# Let's create a more complex query"
   ]
  },
  {
   "cell_type": "code",
   "execution_count": null,
   "metadata": {},
   "outputs": [],
   "source": [
    "# return Europe and Japan cars with HP > 113,\n",
    "# Weight > 2000, with 4 or 6 cylinders\n",
    "\n",
    "q_hp_acc_origin = cars.find({\n",
    "    '$and':[\n",
    "        {'HP': {'$gt':113}},\n",
    "        {'Weight': {'$gt':2000}},\n",
    "        {'$or':[\n",
    "            {'Cylinders':4},\n",
    "            {'Cylinders':6}\n",
    "            ]\n",
    "         },\n",
    "        {'Origin':{'$in':['Europe', 'Japan']}}\n",
    "        ]\n",
    "    })\n",
    "\n",
    "# display all of them\n",
    "\n",
    "[(row['Car'], row['Origin'], row['HP'],\n",
    "  row['Cylinders'], row['Weight'])\n",
    " for row in q_hp_acc_origin]"
   ]
  },
  {
   "cell_type": "markdown",
   "metadata": {},
   "source": [
    "We do a whole bunch of things with this query. We want to retrieve all records with 'HP' greater than '113' AND 'Weight' greater than '2000'. But, only include those records returned that have either 4 or 6 cylinder engines or originate from Europe or Japan. Although the query looks complex, it is not really that bad once you get used to the structure.\n",
    "\n",
    "Notice that the outside '\\\\$and' is key to the whole query. The main query has 4 logical filter pieces all of which have to be satisfied since we are using the logical 'AND'. The four filter pieces include 'HP', 'Weight', 'Cylinders', <strong><font color=red>and</font></strong> 'Origin'. The 'Cylinders' filter uses an '\\\\$or' to limit to either '4' or '6'. The 'Origins' filter uses an '\\\\$in' to limit to either 'Europe' or 'Japan'. We could also use '\\\\$nin' with 'US' to get the same result. "
   ]
  },
  {
   "cell_type": "markdown",
   "metadata": {},
   "source": [
    "We can simplify the query because 'AND' logic is implied! We can also replace the 'OR' logic with '\\\\$in'."
   ]
  },
  {
   "cell_type": "code",
   "execution_count": null,
   "metadata": {},
   "outputs": [],
   "source": [
    "q_hp_acc_origin = cars.find({\n",
    "    'HP': {'$gt':113},\n",
    "    'Weight': {'$gt':2000},\n",
    "    'Cylinders':{'$in':[4, 6]},\n",
    "    'Origin':{'$in':['Europe', 'Japan']}\n",
    "    })\n",
    "\n",
    "# display all of them\n",
    "\n",
    "[(row['Car'], row['Origin'], row['HP'],\n",
    "  row['Cylinders'], row['Weight'])\n",
    " for row in q_hp_acc_origin]"
   ]
  },
  {
   "cell_type": "markdown",
   "metadata": {},
   "source": [
    "* There is nothing wrong with the original query, but don't you think that this one is much easier?"
   ]
  },
  {
   "cell_type": "markdown",
   "metadata": {},
   "source": [
    "# The next few queries are much easier\n",
    "\n",
    "### Return 'Japan' cars with 'MPG' between '37' and '39':"
   ]
  },
  {
   "cell_type": "code",
   "execution_count": null,
   "metadata": {},
   "outputs": [],
   "source": [
    "# return Japanese cars with MPG between 37 and 39\n",
    "\n",
    "q_between_mpg = cars.find({\n",
    "    'Origin': 'Japan', 'MPG': {'$lt':39, '$gt':37}\n",
    "    })\n",
    "\n",
    "[(row['Car'], row['MPG'], row['Origin'])\n",
    " for row in q_between_mpg]"
   ]
  },
  {
   "cell_type": "markdown",
   "metadata": {},
   "source": [
    "### Return all cars with 'MPG' greater than or equal to '40':"
   ]
  },
  {
   "cell_type": "code",
   "execution_count": null,
   "metadata": {},
   "outputs": [],
   "source": [
    "# return all cars with MPG > 40\n",
    "\n",
    "q_hi_mpg = cars.find({'MPG': {'$gte':40}})\n",
    "\n",
    "[(row['Car'], row['MPG'], row['Origin'])\n",
    " for row in q_hi_mpg]"
   ]
  },
  {
   "cell_type": "markdown",
   "metadata": {},
   "source": [
    "### Return all cars with either '3' or '5' cylinders:"
   ]
  },
  {
   "cell_type": "code",
   "execution_count": null,
   "metadata": {},
   "outputs": [],
   "source": [
    "# query cars with odd number of cylinder\n",
    "\n",
    "q_odd_cyl = cars.find({'Cylinders':{'$in':[3, 5]}})\n",
    "\n",
    "[(row['Car'], row['Origin'], row['HP'],\n",
    "  row['Cylinders'], row['Weight'])\n",
    " for row in q_odd_cyl]"
   ]
  },
  {
   "cell_type": "markdown",
   "metadata": {},
   "source": [
    "# Here's some heuristics to follow when creating complex queries\n",
    "\n",
    "Of course, queries can be as complex as you wish to make them. When creating a very complex query, we suggest:\n",
    "\n",
    "1. start with a clear plan of what you wish to query\n",
    "2. break your planned query into smaller ones\n",
    "3. get the smaller queries to work\n",
    "4. start piecing together the smaller queries into larger ones.\n",
    "5. debug as you add more logic to the query\n",
    "\n",
    "When we get frustrated building complex queries, we follow the steps just presented. Even the complex query in this lesson took us some work!"
   ]
  },
  {
   "cell_type": "markdown",
   "metadata": {},
   "source": [
    "# Module 4 Exercise\n",
    "\n",
    "Create a query with the following specifications:\n",
    "\n",
    "* Exclude cars made in the United States\n",
    "* Weight must be between 1750 and 2200 pounds (inclusive)\n",
    "* Acceleration must be greater than 15\n",
    "* MPG must be greater than 25"
   ]
  },
  {
   "cell_type": "markdown",
   "metadata": {},
   "source": [
    "# Our solution\n",
    "\n",
    "* Begin with a plan. We have four conditions that we must meet. Let's begin with the first condition:"
   ]
  },
  {
   "cell_type": "code",
   "execution_count": null,
   "metadata": {},
   "outputs": [],
   "source": [
    "q = cars.find({\n",
    "    'Origin': {'$nin': ['US']}\n",
    "    })"
   ]
  },
  {
   "cell_type": "markdown",
   "metadata": {},
   "source": [
    "### We mentioned the 'nin' operator, but didn't use it in an example. "
   ]
  },
  {
   "cell_type": "code",
   "execution_count": null,
   "metadata": {},
   "outputs": [],
   "source": [
    "# verify results\n",
    "\n",
    "[row['Origin'] for i, row in enumerate(q) if i < 3]"
   ]
  },
  {
   "cell_type": "markdown",
   "metadata": {},
   "source": [
    "* Continue by adding the second condition:"
   ]
  },
  {
   "cell_type": "code",
   "execution_count": null,
   "metadata": {},
   "outputs": [],
   "source": [
    "q = cars.find({\n",
    "    'Origin': {'$nin':['US']},\n",
    "    'Weight': {'$gte':1750, '$lte':2200}\n",
    "    })"
   ]
  },
  {
   "cell_type": "code",
   "execution_count": null,
   "metadata": {},
   "outputs": [],
   "source": [
    "# verify results\n",
    "\n",
    "[(row['Origin'], row['Weight']) for i, row in enumerate(q) if i < 3]"
   ]
  },
  {
   "cell_type": "markdown",
   "metadata": {},
   "source": [
    "* Let's go ahead and add the third and fourth condition"
   ]
  },
  {
   "cell_type": "code",
   "execution_count": null,
   "metadata": {},
   "outputs": [],
   "source": [
    "q = cars.find({\n",
    "    'Origin': {'$nin':['US']},\n",
    "    'Weight': {'$gte':1750, '$lte':2200},\n",
    "    'Acceleration': {'$gt':15},\n",
    "    'MPG': {'$gt':25}\n",
    "    })"
   ]
  },
  {
   "cell_type": "code",
   "execution_count": null,
   "metadata": {},
   "outputs": [],
   "source": [
    "# verify results\n",
    "\n",
    "[(row['Origin'], row['Weight'], row['Acceleration'], row['MPG'])\n",
    " for i, row in enumerate(q) if i < 3]"
   ]
  },
  {
   "cell_type": "markdown",
   "metadata": {},
   "source": [
    "# What did we learn?\n",
    "\n",
    "1. we read a CSV file into a Pandas DataFrame\n",
    "2. we converted the DataFrame into dictionary elements\n",
    "3. we dumped the data to JSON\n",
    "4. we read the JSON data to verify that all worked as planned\n",
    "5. we sharpened our querying skills with an exercise\n",
    "\n",
    "## Questions?"
   ]
  },
  {
   "cell_type": "markdown",
   "metadata": {},
   "source": [
    "# <font color=red>5 minute break</font>"
   ]
  }
 ],
 "metadata": {
  "kernelspec": {
   "display_name": "Python 3",
   "language": "python",
   "name": "python3"
  },
  "language_info": {
   "codemirror_mode": {
    "name": "ipython",
    "version": 3
   },
   "file_extension": ".py",
   "mimetype": "text/x-python",
   "name": "python",
   "nbconvert_exporter": "python",
   "pygments_lexer": "ipython3",
   "version": "3.7.3"
  }
 },
 "nbformat": 4,
 "nbformat_minor": 2
}
