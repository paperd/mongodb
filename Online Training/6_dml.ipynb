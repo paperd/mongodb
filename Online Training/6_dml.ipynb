{
 "cells": [
  {
   "cell_type": "markdown",
   "metadata": {},
   "source": [
    "# Module 6 - DML (30 minutes)\n",
    "\n",
    "Data Manipulation Language (DML) is a computer programming language used for adding, deleting, and modifying data in a database. For the past generation (or so), the DML language of choice has been SQL. But, we are going to practice DML with a NoSQL database, namely, MongoDB.\n",
    "\n",
    "* Please feel free to ask questions at any time!"
   ]
  },
  {
   "cell_type": "markdown",
   "metadata": {},
   "source": [
    "# As usual, let's set up the environment"
   ]
  },
  {
   "cell_type": "code",
   "execution_count": null,
   "metadata": {},
   "outputs": [],
   "source": [
    "!pip install pymongo"
   ]
  },
  {
   "cell_type": "code",
   "execution_count": null,
   "metadata": {},
   "outputs": [],
   "source": [
    "from pymongo import MongoClient"
   ]
  },
  {
   "cell_type": "code",
   "execution_count": null,
   "metadata": {},
   "outputs": [],
   "source": [
    "client = MongoClient('localhost', port=27017)\n",
    "db = client.test"
   ]
  },
  {
   "cell_type": "markdown",
   "metadata": {},
   "source": [
    "# Let's establish a new collection"
   ]
  },
  {
   "cell_type": "code",
   "execution_count": null,
   "metadata": {},
   "outputs": [],
   "source": [
    "ai = db.ai\n",
    "ai.drop()  # we're still learning!"
   ]
  },
  {
   "cell_type": "markdown",
   "metadata": {},
   "source": [
    "# Create dictionary elements"
   ]
  },
  {
   "cell_type": "code",
   "execution_count": null,
   "metadata": {},
   "outputs": [],
   "source": [
    "ai1 = {'_id':0, 'name':'Alexa', 'item':'voice service', 'CO':'Amazon', 'votes':[0, 1, 1, 5, 3] }\n",
    "ai2 = {'_id':1, 'name':'Robin', 'item':'personal assistant', 'CO':'Android', 'votes': [3, 2, 4, 4, 3] }\n",
    "ai3 = {'_id':2, 'name':'Siri', 'item':'virtual assistant', 'CO':'Apple', 'votes': [5, 3, 3, 5, 3] }\n",
    "ai4 = {'_id':3, 'name':'Home', 'item':'voice assistant', 'CO':'Google', 'votes': [4, 4, 5, 5, 3] }\n",
    "\n",
    "ls = [ai1, ai2, ai3, ai4]"
   ]
  },
  {
   "cell_type": "markdown",
   "metadata": {},
   "source": [
    "# Let's <font color=DarkOrchid>Insert</font> data into the collection\n",
    "\n",
    "There are two methods for inserting data:\n",
    "\n",
    "1. insert_one() - inserts one document\n",
    "2. insert_many() - inserts many documents"
   ]
  },
  {
   "cell_type": "code",
   "execution_count": null,
   "metadata": {},
   "outputs": [],
   "source": [
    "# create 'ai' collection\n",
    "\n",
    "ai.insert_many(ls)  # notice the use of 'insert_many'"
   ]
  },
  {
   "cell_type": "markdown",
   "metadata": {},
   "source": [
    "* There three main DML operations, namely **insert**, **update**, and **delete**. We just inserted data."
   ]
  },
  {
   "cell_type": "markdown",
   "metadata": {},
   "source": [
    "# Verify results"
   ]
  },
  {
   "cell_type": "code",
   "execution_count": null,
   "metadata": {},
   "outputs": [],
   "source": [
    "[(row['name'], row['CO'], row['item'] ) for row in ai.find()]"
   ]
  },
  {
   "cell_type": "markdown",
   "metadata": {},
   "source": [
    "# Let's <font color=ForestGreen>Update</font> data\n",
    "\n",
    "There are two methods for updating data:\n",
    "\n",
    "1. update_one() - update one document\n",
    "2. update_many() - update many documents"
   ]
  },
  {
   "cell_type": "markdown",
   "metadata": {},
   "source": [
    "## Update a single document"
   ]
  },
  {
   "cell_type": "code",
   "execution_count": null,
   "metadata": {},
   "outputs": [],
   "source": [
    "# update the name of the first document\n",
    "\n",
    "ai.update_one(\n",
    "    {'_id':0},\n",
    "    {'$set':{'name':'Alexa II'}}\n",
    "    )"
   ]
  },
  {
   "cell_type": "markdown",
   "metadata": {},
   "source": [
    "The first condition is **always** a query. In this case, it identifies the document we want to update. The condition is what we want to modify. In this case, we want to update the **'name'** value for the first document in the collection. The '\\\\$set' operation is used to carry out the update. "
   ]
  },
  {
   "cell_type": "markdown",
   "metadata": {},
   "source": [
    "## Verify results"
   ]
  },
  {
   "cell_type": "code",
   "execution_count": null,
   "metadata": {},
   "outputs": [],
   "source": [
    "[(row['name'], row['CO'], row['item'] ) for row in ai.find()]"
   ]
  },
  {
   "cell_type": "markdown",
   "metadata": {},
   "source": [
    "## Update more than one document"
   ]
  },
  {
   "cell_type": "code",
   "execution_count": null,
   "metadata": {},
   "outputs": [],
   "source": [
    "# update the item in several documents\n",
    "\n",
    "ai.update_many(\n",
    "    {'name':{'$regex':'^A*'}},\n",
    "    {'$set':{'item':'voice assistant'}})"
   ]
  },
  {
   "cell_type": "markdown",
   "metadata": {},
   "source": [
    "We modify 'item' values for all companies that begin with the letter 'A'."
   ]
  },
  {
   "cell_type": "markdown",
   "metadata": {},
   "source": [
    "## Verify results"
   ]
  },
  {
   "cell_type": "code",
   "execution_count": null,
   "metadata": {},
   "outputs": [],
   "source": [
    "[(row['name'], row['CO'], row['item'] ) for row in ai.find()]"
   ]
  },
  {
   "cell_type": "markdown",
   "metadata": {},
   "source": [
    "## Update multivalue features\n",
    "\n",
    "The 'votes' feature contains multiple values (in a list) within each document. So, how do we modify this type of data?\n",
    "\n",
    "1. The '\\\\$pull' operator removes values from a list\n",
    "2. the '\\\\$push' operator adds values to a list"
   ]
  },
  {
   "cell_type": "markdown",
   "metadata": {},
   "source": [
    "### Remove values from one document\n",
    "\n",
    "First, let's view the 'votes' for each document."
   ]
  },
  {
   "cell_type": "code",
   "execution_count": null,
   "metadata": {},
   "outputs": [],
   "source": [
    "[(row['name'], row['votes'] ) for row in ai.find()]"
   ]
  },
  {
   "cell_type": "markdown",
   "metadata": {},
   "source": [
    "Now, let's remove values of '0' from the first document."
   ]
  },
  {
   "cell_type": "code",
   "execution_count": null,
   "metadata": {},
   "outputs": [],
   "source": [
    "# '$pull' removes from list\n",
    "\n",
    "ai.update_one( {'_id': 0},\n",
    "              {'$pull': {'votes': {'$in': [0]}}} )  # notice the use of 'update_one'"
   ]
  },
  {
   "cell_type": "markdown",
   "metadata": {},
   "source": [
    "### Verify results"
   ]
  },
  {
   "cell_type": "code",
   "execution_count": null,
   "metadata": {},
   "outputs": [],
   "source": [
    "[(row['name'], row['votes'] ) for row in ai.find()]"
   ]
  },
  {
   "cell_type": "markdown",
   "metadata": {},
   "source": [
    "We can look at the individual row if we wish:"
   ]
  },
  {
   "cell_type": "code",
   "execution_count": null,
   "metadata": {},
   "outputs": [],
   "source": [
    "q = ai.find({'_id':0})\n",
    "\n",
    "[(row) for row in q]"
   ]
  },
  {
   "cell_type": "markdown",
   "metadata": {},
   "source": [
    "### Let's add the '0' value back into the first document "
   ]
  },
  {
   "cell_type": "code",
   "execution_count": null,
   "metadata": {},
   "outputs": [],
   "source": [
    "# '$push' adds to list\n",
    "\n",
    "ai.update_one( {'_id': 0},\n",
    "              {'$push': {'votes': {'$each': [0]}}})"
   ]
  },
  {
   "cell_type": "markdown",
   "metadata": {},
   "source": [
    "### Verify results"
   ]
  },
  {
   "cell_type": "code",
   "execution_count": null,
   "metadata": {},
   "outputs": [],
   "source": [
    "q = ai.find({'_id':0})  # run a query!\n",
    "\n",
    "[(row['name'], row['votes']) for row in q]"
   ]
  },
  {
   "cell_type": "markdown",
   "metadata": {},
   "source": [
    "### Remove values from more than one document\n",
    "\n",
    "Let's remove 'votes' between '0' and '3' (inclusive) from all documents."
   ]
  },
  {
   "cell_type": "code",
   "execution_count": null,
   "metadata": {},
   "outputs": [],
   "source": [
    "# '$pull' from all documents\n",
    "\n",
    "ai.update_many( {}, {'$pull': {'votes': {'$gte': 0, '$lte': 3}}})  # notice use of 'update_many'"
   ]
  },
  {
   "cell_type": "code",
   "execution_count": null,
   "metadata": {},
   "outputs": [],
   "source": [
    "[(row['name'], row['votes'] ) for row in ai.find()]"
   ]
  },
  {
   "cell_type": "markdown",
   "metadata": {},
   "source": [
    "### Add values into more than one document\n",
    "\n",
    "Let's add values into the first and second document. "
   ]
  },
  {
   "cell_type": "code",
   "execution_count": null,
   "metadata": {},
   "outputs": [],
   "source": [
    "# ''$push' into '_id' 0 and 1\n",
    "\n",
    "ai.update_many( {'_id': {'$in': [0, 1]}},\n",
    "               {'$push': {'votes': {'$each':[5, 4]}}})"
   ]
  },
  {
   "cell_type": "markdown",
   "metadata": {},
   "source": [
    "### Verify results"
   ]
  },
  {
   "cell_type": "code",
   "execution_count": null,
   "metadata": {},
   "outputs": [],
   "source": [
    "[(row['name'], row['votes'] ) for row in ai.find()]"
   ]
  },
  {
   "cell_type": "markdown",
   "metadata": {},
   "source": [
    "### Remove a value from the second document"
   ]
  },
  {
   "cell_type": "code",
   "execution_count": null,
   "metadata": {},
   "outputs": [],
   "source": [
    "# '$pull' from '_id' 1\n",
    "\n",
    "ai.update_one( {'_id': 1},\n",
    "              {'$pull': {'votes': {'$in': [5]}}})"
   ]
  },
  {
   "cell_type": "markdown",
   "metadata": {},
   "source": [
    "### Verify results"
   ]
  },
  {
   "cell_type": "code",
   "execution_count": null,
   "metadata": {},
   "outputs": [],
   "source": [
    "[(row['name'], row['votes'] ) for row in ai.find()]"
   ]
  },
  {
   "cell_type": "markdown",
   "metadata": {},
   "source": [
    "# Let's <font color=Maroon>Delete</font> data\n",
    "\n",
    "There are two methods for deleting data:\n",
    "\n",
    "1. delete_one() - delete one document\n",
    "2. delete_many() - delete many documents"
   ]
  },
  {
   "cell_type": "markdown",
   "metadata": {},
   "source": [
    "## Let's delete all documents"
   ]
  },
  {
   "cell_type": "code",
   "execution_count": null,
   "metadata": {},
   "outputs": [],
   "source": [
    "# delete all documents, but keep collection\n",
    "\n",
    "db.ai.delete_many( {} )\n",
    "\n",
    "result = [(row) for row in ai.find()]\n",
    "\n",
    "if not result:\n",
    "    print ('cursor empty')"
   ]
  },
  {
   "cell_type": "markdown",
   "metadata": {},
   "source": [
    "The curly brackets **'{}'** are required! "
   ]
  },
  {
   "cell_type": "markdown",
   "metadata": {},
   "source": [
    "## Let's recreate the collection to practice more!"
   ]
  },
  {
   "cell_type": "code",
   "execution_count": null,
   "metadata": {},
   "outputs": [],
   "source": [
    "# recreate 'ai' collection\n",
    "\n",
    "ai.insert_many(ls)"
   ]
  },
  {
   "cell_type": "code",
   "execution_count": null,
   "metadata": {},
   "outputs": [],
   "source": [
    "[(row['_id'], row['name'], row['CO'] ) for row in ai.find()]"
   ]
  },
  {
   "cell_type": "markdown",
   "metadata": {},
   "source": [
    "## Let's delete documents by '\\_id'"
   ]
  },
  {
   "cell_type": "code",
   "execution_count": null,
   "metadata": {},
   "outputs": [],
   "source": [
    "# delete some documents\n",
    "\n",
    "db.ai.delete_many({\n",
    "    '_id': {\n",
    "        '$in': [1, 2]\n",
    "        }\n",
    "    })"
   ]
  },
  {
   "cell_type": "markdown",
   "metadata": {},
   "source": [
    "## Verify results"
   ]
  },
  {
   "cell_type": "code",
   "execution_count": null,
   "metadata": {},
   "outputs": [],
   "source": [
    "[(row['_id'], row['name'], row['CO'] ) for row in ai.find()]"
   ]
  },
  {
   "cell_type": "markdown",
   "metadata": {},
   "source": [
    "# Module 6 Exercise\n",
    "\n",
    "Create a collection and practice DML on it\n",
    "\n",
    "* Establish a new collection\n",
    "* Add at least 3 documents to the collection\n",
    "* Modify the collection in some way\n",
    "* Delete one or more documents from the collection\n",
    "* Verify the DML"
   ]
  },
  {
   "cell_type": "markdown",
   "metadata": {},
   "source": [
    "# Our solution\n",
    "\n",
    "This one is pretty easy. Just create a simple collection and practice DML on it. By simple, we mean that you shouldn't include a feature with multiple values."
   ]
  },
  {
   "cell_type": "markdown",
   "metadata": {},
   "source": [
    "# What did we learn?\n",
    "\n",
    "1. we learned that DML is pretty easy to implement with NoSQL databases\n",
    "2. we learned how to add, modify, and delete MongoDB data\n",
    "3. we sharpened our DML skills with an exercise\n",
    "\n",
    "## Questions?"
   ]
  },
  {
   "cell_type": "markdown",
   "metadata": {},
   "source": [
    "# <font color=red>5 minute break</font>"
   ]
  }
 ],
 "metadata": {
  "kernelspec": {
   "display_name": "Python 3",
   "language": "python",
   "name": "python3"
  },
  "language_info": {
   "codemirror_mode": {
    "name": "ipython",
    "version": 3
   },
   "file_extension": ".py",
   "mimetype": "text/x-python",
   "name": "python",
   "nbconvert_exporter": "python",
   "pygments_lexer": "ipython3",
   "version": "3.7.3"
  }
 },
 "nbformat": 4,
 "nbformat_minor": 2
}
