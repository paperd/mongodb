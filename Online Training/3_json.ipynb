{
 "cells": [
  {
   "cell_type": "markdown",
   "metadata": {},
   "source": [
    "# Module 3 - Work with JSON data (30 minutes)\n",
    "\n",
    "JSON (JavaScript Object Notation) is a syntax for storing and exchanging data. JSON is a very efficient and universal way to store data. It also plays nice with Python.\n",
    "\n",
    "* Please feel free to ask questions at any time!"
   ]
  },
  {
   "cell_type": "code",
   "execution_count": null,
   "metadata": {},
   "outputs": [],
   "source": [
    "!pip install pymongo"
   ]
  },
  {
   "cell_type": "code",
   "execution_count": null,
   "metadata": {},
   "outputs": [],
   "source": [
    "from pymongo import MongoClient\n",
    "import pandas as pd"
   ]
  },
  {
   "cell_type": "markdown",
   "metadata": {},
   "source": [
    "# Read and Process a MongoDB Collection\n",
    "\n",
    "1. Connect to MongoDB\n",
    "2. Connect to the MongoDB instance\n",
    "3. Query cars data\n",
    "4. Read queried data into a list"
   ]
  },
  {
   "cell_type": "code",
   "execution_count": null,
   "metadata": {},
   "outputs": [],
   "source": [
    "# connect to DB\n",
    "\n",
    "client = MongoClient('localhost', port=27017)"
   ]
  },
  {
   "cell_type": "code",
   "execution_count": null,
   "metadata": {},
   "outputs": [],
   "source": [
    "# connect to instance\n",
    "\n",
    "db = client.test"
   ]
  },
  {
   "cell_type": "markdown",
   "metadata": {},
   "source": [
    "* Let's use the 'cars' collection since we already created it."
   ]
  },
  {
   "cell_type": "code",
   "execution_count": null,
   "metadata": {},
   "outputs": [],
   "source": [
    "# query 'cars' data\n",
    "\n",
    "cars = db.cars\n",
    "q = cars.find()"
   ]
  },
  {
   "cell_type": "code",
   "execution_count": null,
   "metadata": {},
   "outputs": [],
   "source": [
    "# create list of dictionary elements\n",
    "\n",
    "ls = [row for i, row in enumerate(q)]"
   ]
  },
  {
   "cell_type": "code",
   "execution_count": null,
   "metadata": {},
   "outputs": [],
   "source": [
    "# verify\n",
    "\n",
    "print ('number of dict elements:', len(ls))"
   ]
  },
  {
   "cell_type": "markdown",
   "metadata": {},
   "source": [
    "# Save Data to JSON\n",
    "\n",
    "1. Import the JSON library\n",
    "2. Create a function to save data to JSON\n",
    "3. Save to JSON\n",
    "4. Create a function to read JSON data\n",
    "5. Read JSON\n",
    "6. Verify that all is well by reading from JSON"
   ]
  },
  {
   "cell_type": "code",
   "execution_count": null,
   "metadata": {},
   "outputs": [],
   "source": [
    "# import the json library\n",
    "\n",
    "import json"
   ]
  },
  {
   "cell_type": "code",
   "execution_count": null,
   "metadata": {},
   "outputs": [],
   "source": [
    "# create a utility function to save to JSON\n",
    "\n",
    "def dump_json(f, d):\n",
    "    with open(f, 'w') as f:\n",
    "        json.dump(d, f)"
   ]
  },
  {
   "cell_type": "markdown",
   "metadata": {},
   "source": [
    "* The function opens a new JSON file and dumps (saves) the dictionary elements into the new file."
   ]
  },
  {
   "cell_type": "code",
   "execution_count": null,
   "metadata": {},
   "outputs": [],
   "source": [
    "# save to JSON\n",
    "\n",
    "json_file = 'data/cars.json'  # path to the JSON file\n",
    "dump_json(json_file, ls)"
   ]
  },
  {
   "cell_type": "code",
   "execution_count": null,
   "metadata": {},
   "outputs": [],
   "source": [
    "# create utility function to read JSON\n",
    "\n",
    "def read_json(f):\n",
    "    with open(f) as f:\n",
    "        return json.load(f)"
   ]
  },
  {
   "cell_type": "markdown",
   "metadata": {},
   "source": [
    "* This function reads a JSON file from the given path."
   ]
  },
  {
   "cell_type": "code",
   "execution_count": null,
   "metadata": {},
   "outputs": [],
   "source": [
    "# read the JSON file\n",
    "\n",
    "cars_data_from_json = read_json(json_file)"
   ]
  },
  {
   "cell_type": "markdown",
   "metadata": {},
   "source": [
    "### Let's display some data\n",
    "\n",
    "The JSON file holds data as dictionaries in a list. To access values in each dictionary, we use an index value. So, the first dictionary starts at index 0. To get the elements within the dictionary, we use the index value with the feature column. In this case, we access the first 5 dictionaries and display the **Car** and **Origin** from each."
   ]
  },
  {
   "cell_type": "code",
   "execution_count": null,
   "metadata": {},
   "outputs": [],
   "source": [
    "# display some records from the JSON file\n",
    "\n",
    "for i, row in enumerate(cars_data_from_json):\n",
    "    if i < 5:\n",
    "        print (row['Car'], end =' ')\n",
    "        print (row['Origin'])"
   ]
  },
  {
   "cell_type": "markdown",
   "metadata": {},
   "source": [
    "Of course, there are other ways to read and write JSON. But, we like this technique because we have complete control of the data."
   ]
  },
  {
   "cell_type": "markdown",
   "metadata": {},
   "source": [
    "# Save CSV Data into JSON\n",
    "\n",
    "1. Read CSV file into Pandas DataFrame\n",
    "2. Convert DataFrame to list of dictionary elements\n",
    "3. Import the JSON library (<font color=red>done earlier</font>)\n",
    "4. Create a function to save data to JSON (<font color=red>done earlier</font>)\n",
    "5. Save to JSON\n",
    "6. Create a function to read JSON data (<font color=red>done earlier</font>)\n",
    "7. Read JSON\n",
    "8. Verify that all is well by reading from JSON"
   ]
  },
  {
   "cell_type": "code",
   "execution_count": null,
   "metadata": {},
   "outputs": [],
   "source": [
    "# read CSV into Pandas\n",
    "\n",
    "f = 'data/sales.csv'\n",
    "df = pd.read_csv(f)"
   ]
  },
  {
   "cell_type": "markdown",
   "metadata": {},
   "source": [
    "* This is the first time that we've worked with this CSV file!"
   ]
  },
  {
   "cell_type": "code",
   "execution_count": null,
   "metadata": {},
   "outputs": [],
   "source": [
    "# convert data into a list of dictionary elements\n",
    "\n",
    "data = df.to_dict('records')"
   ]
  },
  {
   "cell_type": "code",
   "execution_count": null,
   "metadata": {},
   "outputs": [],
   "source": [
    "# save to JSON\n",
    "\n",
    "json_file = 'data/sales.json'  # path to the JSON file\n",
    "dump_json(json_file, data)"
   ]
  },
  {
   "cell_type": "code",
   "execution_count": null,
   "metadata": {},
   "outputs": [],
   "source": [
    "# read the JSON file\n",
    "\n",
    "sales_data_from_json = read_json(json_file)"
   ]
  },
  {
   "cell_type": "code",
   "execution_count": null,
   "metadata": {},
   "outputs": [],
   "source": [
    "# get features\n",
    "\n",
    "br = '\\n'\n",
    "features = list(sales_data_from_json[0])\n",
    "print ('Features:', br)\n",
    "print (features, br)\n",
    "\n",
    "# display some records from the JSON file\n",
    "\n",
    "for i, row in enumerate(sales_data_from_json):\n",
    "    if i < 5:\n",
    "        print (row['Country'], end=' ')\n",
    "        print (row['Item Type'], end=' ')\n",
    "        total_profit = '${:,.2f}'.format(row['Total Profit'])\n",
    "        print (total_profit)"
   ]
  },
  {
   "cell_type": "markdown",
   "metadata": {},
   "source": [
    "* We get the feature columns since we haven't worked with this dataset before."
   ]
  },
  {
   "cell_type": "markdown",
   "metadata": {},
   "source": [
    "# Save 'sales' data to MongoDB"
   ]
  },
  {
   "cell_type": "code",
   "execution_count": null,
   "metadata": {},
   "outputs": [],
   "source": [
    "# we already have 'sales' data in memory thanks to the magic of Jupyter!\n",
    "\n",
    "sales = db.sales  # establish collection name\n",
    "\n",
    "sales.drop()  # a good idea, especially when learning ...\n",
    "\n",
    "# add 'sales' data to 'sales' collection\n",
    "\n",
    "for i, row in enumerate(sales_data_from_json):\n",
    "    row['_id'] = i\n",
    "    sales.insert_one(row)  # create a new document for every record\n",
    "    \n",
    "# verify collection was created\n",
    "\n",
    "q = sales.find().limit(3)\n",
    "[(row['Country'], row['Item Type']) for row in q]"
   ]
  },
  {
   "cell_type": "code",
   "execution_count": null,
   "metadata": {},
   "outputs": [],
   "source": [
    "# count number of documents in collection\n",
    "\n",
    "cnt = sales.count_documents({})\n",
    "cnt"
   ]
  },
  {
   "cell_type": "markdown",
   "metadata": {},
   "source": [
    "Now, we can work with the 'sales' collection for added practice. "
   ]
  },
  {
   "cell_type": "markdown",
   "metadata": {},
   "source": [
    "# Read and Peruse an Existing JSON File"
   ]
  },
  {
   "cell_type": "markdown",
   "metadata": {},
   "source": [
    "* We created a 'movies' JSON file for added practice."
   ]
  },
  {
   "cell_type": "code",
   "execution_count": null,
   "metadata": {},
   "outputs": [],
   "source": [
    "# read the 'movies' JSON file\n",
    "\n",
    "json_file = 'data/movies.json'  # path to the JSON file\n",
    "\n",
    "movies_data_from_json = read_json(json_file)"
   ]
  },
  {
   "cell_type": "code",
   "execution_count": null,
   "metadata": {},
   "outputs": [],
   "source": [
    "# get size\n",
    "\n",
    "len(movies_data_from_json)"
   ]
  },
  {
   "cell_type": "code",
   "execution_count": null,
   "metadata": {},
   "outputs": [],
   "source": [
    "# get features\n",
    "\n",
    "features = list(movies_data_from_json[0])\n",
    "print ('Features:', br)\n",
    "print (features)"
   ]
  },
  {
   "cell_type": "code",
   "execution_count": null,
   "metadata": {},
   "outputs": [],
   "source": [
    "# peruse JSON\n",
    "\n",
    "for i, row in enumerate(movies_data_from_json):\n",
    "    if i < 5:\n",
    "        print (row['movie_id'], end=' ')\n",
    "        print (row['title'], end=' ')\n",
    "        print (row['genres'])"
   ]
  },
  {
   "cell_type": "markdown",
   "metadata": {},
   "source": [
    "# Save 'movies' data to MongoDB"
   ]
  },
  {
   "cell_type": "code",
   "execution_count": null,
   "metadata": {},
   "outputs": [],
   "source": [
    "# we already have 'movies' data in memory\n",
    "\n",
    "movies = db.movies  # establish collection name\n",
    "\n",
    "movies.drop()  # a good idea, especially when learning ...\n",
    "\n",
    "# add 'sales' data to 'sales' collection\n",
    "\n",
    "for i, row in enumerate(movies_data_from_json):\n",
    "    row['_id'] = i\n",
    "    movies.insert_one(row)  # create a new document for every record\n",
    "    \n",
    "# verify collection was created\n",
    "\n",
    "n = 3\n",
    "q = movies.find().limit(n)\n",
    "\n",
    "['movie_id', 'title', 'genres']\n",
    "\n",
    "[(row['title'], row['genres']) for row in q]"
   ]
  },
  {
   "cell_type": "code",
   "execution_count": null,
   "metadata": {},
   "outputs": [],
   "source": [
    "# count number of documents in collection\n",
    "\n",
    "cnt = movies.count_documents({})\n",
    "cnt"
   ]
  },
  {
   "cell_type": "markdown",
   "metadata": {},
   "source": [
    "# Module 3 Exercise\n",
    "\n",
    "* Create a small list (at least 3) of dictonary elements\n",
    "* Save the list to JSON\n",
    "* Read the JSON\n",
    "* Create a query to verify"
   ]
  },
  {
   "cell_type": "markdown",
   "metadata": {},
   "source": [
    "# Our solution\n",
    "\n",
    "* Create a small list of dictionary elements"
   ]
  },
  {
   "cell_type": "code",
   "execution_count": null,
   "metadata": {},
   "outputs": [],
   "source": [
    "# of course, your example will differ\n",
    "\n",
    "data = [\n",
    "    {'_id':0, 'name': 'Catcher in the Rye', 'author':'J. D. Salinger'},\n",
    "    {'_id':1, 'name': 'Moby Dick', 'author':'Herman Melville'},\n",
    "    {'_id':2, 'name': 'War and Peace', 'author':'Leo Tolstoy'},\n",
    "    {'_id':3, 'name': 'Candide', 'author':'Voltaire'}\n",
    "    ]"
   ]
  },
  {
   "cell_type": "code",
   "execution_count": null,
   "metadata": {},
   "outputs": [],
   "source": [
    "# save to JSON\n",
    "\n",
    "json_file = 'data/books.json'\n",
    "dump_json(json_file, data)"
   ]
  },
  {
   "cell_type": "code",
   "execution_count": null,
   "metadata": {},
   "outputs": [],
   "source": [
    "# Read the JSON\n",
    "\n",
    "books_data_from_json = read_json(json_file)"
   ]
  },
  {
   "cell_type": "code",
   "execution_count": null,
   "metadata": {},
   "outputs": [],
   "source": [
    "# get features\n",
    "\n",
    "books_data_from_json[0].keys()"
   ]
  },
  {
   "cell_type": "code",
   "execution_count": null,
   "metadata": {},
   "outputs": [],
   "source": [
    "# verify\n",
    "\n",
    "# display some records from the JSON file\n",
    "\n",
    "for i, row in enumerate(books_data_from_json):\n",
    "    print (row['name'], end =' by ')\n",
    "    print (row['author'])"
   ]
  },
  {
   "cell_type": "markdown",
   "metadata": {},
   "source": [
    "# What did we learn?\n",
    "\n",
    "1. we converted a MongoDB collection into JSON\n",
    "2. we converted a CSV file into JSON\n",
    "3. we read and explored an existing JSON file\n",
    "4. of course we verified our work\n",
    "5. we worked through an exercise to sharpen our skills\n",
    "\n",
    "## Questions?"
   ]
  },
  {
   "cell_type": "markdown",
   "metadata": {},
   "source": [
    "# <font color=red>5 minute break</font>"
   ]
  }
 ],
 "metadata": {
  "kernelspec": {
   "display_name": "Python 3",
   "language": "python",
   "name": "python3"
  },
  "language_info": {
   "codemirror_mode": {
    "name": "ipython",
    "version": 3
   },
   "file_extension": ".py",
   "mimetype": "text/x-python",
   "name": "python",
   "nbconvert_exporter": "python",
   "pygments_lexer": "ipython3",
   "version": "3.7.3"
  }
 },
 "nbformat": 4,
 "nbformat_minor": 2
}
