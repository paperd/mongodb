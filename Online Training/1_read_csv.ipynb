{
 "cells": [
  {
   "cell_type": "markdown",
   "metadata": {},
   "source": [
    "# Module 1 - Basic Python and Pandas (30 minutes)\n",
    "\n",
    "* The course is hands-on, so please work along with us ...\n",
    "* Each module has an exercise at the end to reinforce learning\n",
    "* Please feel free to ask questions at any time!\n",
    "\n",
    "We really need a good understanding of **Pandas** basics because it works so well with MongoDB."
   ]
  },
  {
   "cell_type": "code",
   "execution_count": null,
   "metadata": {},
   "outputs": [],
   "source": [
    "# upload to Jupyter and get data into Pandas\n",
    "\n",
    "import pandas as pd\n",
    "\n",
    "f = 'data/cars.csv'\n",
    "df = pd.read_csv(f)"
   ]
  },
  {
   "cell_type": "markdown",
   "metadata": {},
   "source": [
    "# View a sample from the DataFrame"
   ]
  },
  {
   "cell_type": "code",
   "execution_count": null,
   "metadata": {},
   "outputs": [],
   "source": [
    "# view a sample of records from a Pandas DataFrame\n",
    "\n",
    "df.head()"
   ]
  },
  {
   "cell_type": "markdown",
   "metadata": {},
   "source": [
    "# Get the shape of the data"
   ]
  },
  {
   "cell_type": "code",
   "execution_count": null,
   "metadata": {},
   "outputs": [],
   "source": [
    "# get shape of DataFrame\n",
    "\n",
    "df.shape  # 406 records with 9 column features"
   ]
  },
  {
   "cell_type": "markdown",
   "metadata": {},
   "source": [
    "# Limit the size of the sample viewed"
   ]
  },
  {
   "cell_type": "code",
   "execution_count": null,
   "metadata": {},
   "outputs": [],
   "source": [
    "# view just one record (just put in the number you want to view)\n",
    "\n",
    "n = 1\n",
    "df.head(n)"
   ]
  },
  {
   "cell_type": "markdown",
   "metadata": {},
   "source": [
    "# View samples from the end of the DataFrame"
   ]
  },
  {
   "cell_type": "code",
   "execution_count": null,
   "metadata": {},
   "outputs": [],
   "source": [
    "# view last 5 records\n",
    "\n",
    "df.tail()"
   ]
  },
  {
   "cell_type": "code",
   "execution_count": null,
   "metadata": {},
   "outputs": [],
   "source": [
    "# view last n records\n",
    "\n",
    "n = 3\n",
    "\n",
    "df.tail(n)"
   ]
  },
  {
   "cell_type": "markdown",
   "metadata": {},
   "source": [
    "# View a sample restricted by fields"
   ]
  },
  {
   "cell_type": "code",
   "execution_count": null,
   "metadata": {},
   "outputs": [],
   "source": [
    "# use a list to hold column feature names\n",
    "\n",
    "n = 3\n",
    "ls = ['Car', 'Model', 'Origin', 'MPG']\n",
    "df[ls].head(3)"
   ]
  },
  {
   "cell_type": "code",
   "execution_count": null,
   "metadata": {},
   "outputs": [],
   "source": [
    "# alternatively ...\n",
    "\n",
    "df[['Car', 'Model', 'Origin', 'MPG']].head(3)"
   ]
  },
  {
   "cell_type": "markdown",
   "metadata": {},
   "source": [
    "# Get the features (fields)"
   ]
  },
  {
   "cell_type": "code",
   "execution_count": null,
   "metadata": {},
   "outputs": [],
   "source": [
    "# get feature columns\n",
    "\n",
    "features = list(df)\n",
    "features"
   ]
  },
  {
   "cell_type": "markdown",
   "metadata": {},
   "source": [
    "# Get record counts"
   ]
  },
  {
   "cell_type": "code",
   "execution_count": null,
   "metadata": {},
   "outputs": [],
   "source": [
    "# count of all records\n",
    "\n",
    "df.count()"
   ]
  },
  {
   "cell_type": "code",
   "execution_count": null,
   "metadata": {},
   "outputs": [],
   "source": [
    "# count cars from each country by cylinder\n",
    "\n",
    "cyl_by_origin = df.groupby(['Origin', 'Cylinders'])['Car'].count()\n",
    "cyl_by_origin"
   ]
  },
  {
   "cell_type": "markdown",
   "metadata": {},
   "source": [
    "This may seem a bit confusing because you can put any field name from the DataFrame in the brackets '[]'. The reason is that once we group by 'Origin' and then group by 'Cylinders', we count the results. And, the results are counts of cylinder by origin. Pandas has to put the results somewhere. But, it does give you the cylinder count by origin. That is, US cars have 72 cars with 4 cylinders, 74 cars with 6 cylinders, and 108 cars with 8 cylinders.    "
   ]
  },
  {
   "cell_type": "markdown",
   "metadata": {},
   "source": [
    "# Get unique values from a field"
   ]
  },
  {
   "cell_type": "code",
   "execution_count": null,
   "metadata": {},
   "outputs": [],
   "source": [
    "# view unique cyliner types\n",
    "\n",
    "cylinders = df['Cylinders'].unique()\n",
    "cylinders"
   ]
  },
  {
   "cell_type": "markdown",
   "metadata": {},
   "source": [
    "# Run some simple analytics on the data"
   ]
  },
  {
   "cell_type": "code",
   "execution_count": null,
   "metadata": {},
   "outputs": [],
   "source": [
    "# find the average weight of all cars (2 decimal places)\n",
    "\n",
    "import numpy as np\n",
    "\n",
    "weight = df['Weight']\n",
    "avg_weight = np.round(weight.mean(axis = 0), 2)  # axis 0 means to view by column\n",
    "avg_weight"
   ]
  },
  {
   "cell_type": "code",
   "execution_count": null,
   "metadata": {},
   "outputs": [],
   "source": [
    "# find the average MPG for all cars\n",
    "\n",
    "mpg = df['MPG']\n",
    "avg_mpg = np.round(mpg.mean(axis = 0), 2)\n",
    "avg_mpg"
   ]
  },
  {
   "cell_type": "code",
   "execution_count": null,
   "metadata": {},
   "outputs": [],
   "source": [
    "# heck, we can get the mean of all features!\n",
    "\n",
    "avg = np.round(df.mean(), 2)\n",
    "avg"
   ]
  },
  {
   "cell_type": "code",
   "execution_count": null,
   "metadata": {},
   "outputs": [],
   "source": [
    "# for stats crazies, we can get the standard deviation!\n",
    "\n",
    "mpg = df['MPG']\n",
    "sd_mpg = np.round(mpg.std(), 2)\n",
    "sd_mpg"
   ]
  },
  {
   "cell_type": "markdown",
   "metadata": {},
   "source": [
    "# Slice and Dice\n",
    "\n",
    "1. Slice rows and dice columns\n",
    "2. Pandas is great for slicing and dicing data.\n",
    "3. The 'iloc' method offers an easy way to slice and dice"
   ]
  },
  {
   "cell_type": "code",
   "execution_count": null,
   "metadata": {},
   "outputs": [],
   "source": [
    "# slice rows 5, 6, 7, 8, and 9\n",
    "\n",
    "row_slice = df.iloc[5:10]\n",
    "row_slice"
   ]
  },
  {
   "cell_type": "code",
   "execution_count": null,
   "metadata": {},
   "outputs": [],
   "source": [
    "# slice rows 0, 1, and 2 and dice MPG and Cylinders features for those rows\n",
    "\n",
    "col_slice = df.iloc[:, 1:3].head(3)\n",
    "col_slice"
   ]
  },
  {
   "cell_type": "code",
   "execution_count": null,
   "metadata": {},
   "outputs": [],
   "source": [
    "# slice rows 0, 5, and 8\n",
    "# slice cols 1, 0, and 5\n",
    "\n",
    "slice1 = df.iloc[[0, 5, 8], [1, 0, 5]]\n",
    "display (slice1)\n",
    "\n",
    "# slice rows 5, 6, and 7\n",
    "# slice cols 1, 0, 5, and 7\n",
    "\n",
    "slice2 = df.iloc[5:8, [1, 0, 5, 7]]\n",
    "display(slice2)"
   ]
  },
  {
   "cell_type": "markdown",
   "metadata": {},
   "source": [
    "# Let's just analyze US cars"
   ]
  },
  {
   "cell_type": "code",
   "execution_count": null,
   "metadata": {},
   "outputs": [],
   "source": [
    "# build DataFrame for US cars only\n",
    "\n",
    "us_filter =  df['Origin'] == 'US'\n",
    "us = df[us_filter]\n",
    "us.head()"
   ]
  },
  {
   "cell_type": "code",
   "execution_count": null,
   "metadata": {},
   "outputs": [],
   "source": [
    "# get shape of new US DataFrame\n",
    "\n",
    "us.shape  # 254 records with 9 feature columns"
   ]
  },
  {
   "cell_type": "code",
   "execution_count": null,
   "metadata": {},
   "outputs": [],
   "source": [
    "# get averages for US cars\n",
    "\n",
    "avg_us = np.round(us.mean(), 2)\n",
    "avg_us"
   ]
  },
  {
   "cell_type": "code",
   "execution_count": null,
   "metadata": {},
   "outputs": [],
   "source": [
    "# get average MPG for US cars\n",
    "\n",
    "avg_us_mpg = np.round(us['MPG'].mean(), 2)\n",
    "avg_us_mpg"
   ]
  },
  {
   "cell_type": "markdown",
   "metadata": {},
   "source": [
    "# Let's analyze European cars"
   ]
  },
  {
   "cell_type": "code",
   "execution_count": null,
   "metadata": {},
   "outputs": [],
   "source": [
    "# get European cars with 5 cylinders (a bit more complex but useful)\n",
    "\n",
    "# first, get the column you wish to analyze\n",
    "\n",
    "n = 3\n",
    "europe_filter = df['Origin'] == 'Europe'\n",
    "europe = df[europe_filter]\n",
    "europe.head(n)"
   ]
  },
  {
   "cell_type": "code",
   "execution_count": null,
   "metadata": {},
   "outputs": [],
   "source": [
    "# only 73 cars are European\n",
    "\n",
    "europe.shape"
   ]
  },
  {
   "cell_type": "code",
   "execution_count": null,
   "metadata": {},
   "outputs": [],
   "source": [
    "# second, get the rows (records) with the column of interest\n",
    "\n",
    "filter_cyl = europe['Cylinders'] == 5\n",
    "cyl5 = europe[filter_cyl]\n",
    "cyl5.head()  # why do we only get 3 records?"
   ]
  },
  {
   "cell_type": "code",
   "execution_count": null,
   "metadata": {},
   "outputs": [],
   "source": [
    "# only 3 European cars have 5 cylinders!\n",
    "\n",
    "cyl5.shape"
   ]
  },
  {
   "cell_type": "code",
   "execution_count": null,
   "metadata": {},
   "outputs": [],
   "source": [
    "# verify that it worked from original DataFrame\n",
    "\n",
    "df[['Car', 'MPG', 'Cylinders']].iloc[281]"
   ]
  },
  {
   "cell_type": "code",
   "execution_count": null,
   "metadata": {},
   "outputs": [],
   "source": [
    "# chaining is a bit simpler\n",
    "\n",
    "europe = df[df.Origin.eq('Europe')]\n",
    "cyl5 = europe[europe.Cylinders.eq(5)]\n",
    "cyl5.head()"
   ]
  },
  {
   "cell_type": "code",
   "execution_count": null,
   "metadata": {},
   "outputs": [],
   "source": [
    "#To select rows whose column value is in list\n",
    "\n",
    "num = [3, 5]\n",
    "cyl= df[df.Cylinders.isin(num)]\n",
    "cyl  # print ALL results!"
   ]
  },
  {
   "cell_type": "code",
   "execution_count": null,
   "metadata": {},
   "outputs": [],
   "source": [
    "# verify shape\n",
    "\n",
    "cyl.shape"
   ]
  },
  {
   "cell_type": "markdown",
   "metadata": {},
   "source": [
    "# Module 1 Exercise\n",
    "\n",
    "* Compare the 'MPG' for cars across all unique origins.\n",
    "* Does this tell us anything of interest?\n",
    "* Can we further analyze the data by digging a bit deeper?"
   ]
  },
  {
   "cell_type": "markdown",
   "metadata": {},
   "source": [
    "# Our Solution\n",
    "\n",
    "We suggest that you break the problem down into simple pieces.\n",
    "\n",
    "1. Identify all possible origins.\n",
    "2. Create DataFrames for each origin.\n",
    "3. Find average 'MPG' for each origin and compare\n",
    "4. Break down further to see cylinders and counts by origin"
   ]
  },
  {
   "cell_type": "code",
   "execution_count": null,
   "metadata": {},
   "outputs": [],
   "source": [
    "# Step 1 - get unique origins\n",
    "\n",
    "origins = df['Origin'].unique()\n",
    "origins"
   ]
  },
  {
   "cell_type": "code",
   "execution_count": null,
   "metadata": {},
   "outputs": [],
   "source": [
    "# Step 2 - Create DataFrames for each origin\n",
    "\n",
    "us = df[df.Origin.eq('US')]\n",
    "europe = df[df.Origin.eq('Europe')]\n",
    "japan = df[df.Origin.eq('Japan')]"
   ]
  },
  {
   "cell_type": "code",
   "execution_count": null,
   "metadata": {},
   "outputs": [],
   "source": [
    "# Always verify your results!\n",
    "\n",
    "display (us.tail(n))\n",
    "display (europe.tail(n))\n",
    "display (japan.tail(n))"
   ]
  },
  {
   "cell_type": "code",
   "execution_count": null,
   "metadata": {},
   "outputs": [],
   "source": [
    "# Step 3 - Find average 'MPG'\n",
    "\n",
    "avg_us = np.round(us['MPG'].mean(), 2)\n",
    "avg_europe = np.round(europe['MPG'].mean(), 2)\n",
    "avg_japan = np.round(japan['MPG'].mean(), 2)\n",
    "\n",
    "\n",
    "print ('US:', avg_us)\n",
    "print ('Europe', avg_europe)\n",
    "print ('Japan', avg_japan)"
   ]
  },
  {
   "cell_type": "markdown",
   "metadata": {},
   "source": [
    "It is very easy to notice that US cars get the worst 'MPG' and Japanese cares get the best. But, can we identify a reason? "
   ]
  },
  {
   "cell_type": "code",
   "execution_count": null,
   "metadata": {},
   "outputs": [],
   "source": [
    "# Step 4, part 1 - Find cylinders by origin\n",
    "\n",
    "us_cyl = us['Cylinders'].unique()\n",
    "europe_cyl = europe['Cylinders'].unique()\n",
    "japan_cyl = japan['Cylinders'].unique()\n",
    "\n",
    "print ('US:', us_cyl)\n",
    "print ('Europe', europe_cyl)\n",
    "print ('Japan', japan_cyl)"
   ]
  },
  {
   "cell_type": "markdown",
   "metadata": {},
   "source": [
    "The reason might be that US cars use more gas because many of them have 8 cylinders. But, we still might want to dig a bit deeper. Let's look at the record counts and cylinders by origin."
   ]
  },
  {
   "cell_type": "code",
   "execution_count": null,
   "metadata": {},
   "outputs": [],
   "source": [
    "# Step 4, part 2 - Find record count by origin\n",
    "\n",
    "print ('US:', us.shape)\n",
    "print ('Europe:', europe.shape)\n",
    "print ('Japan:', japan.shape)"
   ]
  },
  {
   "cell_type": "markdown",
   "metadata": {},
   "source": [
    "We do have a bit of an issue that is very common in data analytics. The data is **unbalanced**. That is, record counts vary quite a bit between US cars and the other two origins. So, our results may be inconclusive. Of course, this data is not that badly out of balance. Another issue is that we don't have much data. Our decisions are better informed with a lot of data. What can we do? We can get more data! That is why companies are always trying to get as much data as they can."
   ]
  },
  {
   "cell_type": "code",
   "execution_count": null,
   "metadata": {},
   "outputs": [],
   "source": [
    "# record count by cylinder\n",
    "\n",
    "cyl_by_us = us.groupby(['Origin', 'Cylinders'])['Car'].count()\n",
    "print (cyl_by_us)\n",
    "\n",
    "cyl_by_europe = europe.groupby(['Origin', 'Cylinders'])['Car'].count()\n",
    "print (cyl_by_europe)\n",
    "\n",
    "cyl_by_japan = japan.groupby(['Origin', 'Cylinders'])['Car'].count()\n",
    "print (cyl_by_japan)"
   ]
  },
  {
   "cell_type": "markdown",
   "metadata": {},
   "source": [
    "From this small dataset, we are confident that US cars are less efficient than European or Japanese cars because 8 cylinder cars generally get really bad 'MPG', and the majority of US cars in the data are of the 8 cylinder variety (108 to be exact).  "
   ]
  },
  {
   "cell_type": "markdown",
   "metadata": {},
   "source": [
    "# Whew! We did a lot in a very short amount of time\n",
    "\n",
    "1. we read a CSV file into a Pandas DataFrame\n",
    "2. we manipulated the DataFrame in many ways\n",
    "3. we worked through an exercise to sharpen our skills\n",
    "\n",
    "## Questions?"
   ]
  },
  {
   "cell_type": "markdown",
   "metadata": {},
   "source": [
    "# <font color=red>5 minute break</font>"
   ]
  }
 ],
 "metadata": {
  "kernelspec": {
   "display_name": "Python 3",
   "language": "python",
   "name": "python3"
  },
  "language_info": {
   "codemirror_mode": {
    "name": "ipython",
    "version": 3
   },
   "file_extension": ".py",
   "mimetype": "text/x-python",
   "name": "python",
   "nbconvert_exporter": "python",
   "pygments_lexer": "ipython3",
   "version": "3.7.3"
  }
 },
 "nbformat": 4,
 "nbformat_minor": 2
}
